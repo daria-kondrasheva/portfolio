{
 "cells": [
  {
   "cell_type": "code",
   "execution_count": 1,
   "metadata": {},
   "outputs": [],
   "source": [
    "# Чтобы не мешало строить графики\n",
    "import warnings\n",
    "warnings.filterwarnings('ignore')"
   ]
  },
  {
   "cell_type": "code",
   "execution_count": 2,
   "metadata": {},
   "outputs": [],
   "source": [
    "# Чтобы печаталось всё\n",
    "from IPython.core.interactiveshell import InteractiveShell\n",
    "InteractiveShell.ast_node_interactivity = \"all\""
   ]
  },
  {
   "cell_type": "code",
   "execution_count": 218,
   "metadata": {},
   "outputs": [],
   "source": [
    "# Импорты библиотек\n",
    "\n",
    "import pandas as pd\n",
    "import numpy as np\n",
    "\n",
    "import math\n",
    "\n",
    "import datetime\n",
    "from datetime import datetime as dt\n",
    "\n",
    "# для скачивания файлов\n",
    "import requests \n",
    "from urllib.parse import urlencode\n",
    "\n",
    "# статистика\n",
    "import statsmodels.stats.api as sms\n",
    "import statsmodels.api as sm\n",
    "import scipy.stats\n",
    "from scipy.stats import chi2_contingency, chi2\n",
    "\n",
    "import statistics\n",
    "\n",
    "import pingouin as pg\n",
    "\n",
    "# графика\n",
    "import seaborn as sns\n",
    "import matplotlib.pyplot as plt\n",
    "\n",
    "# для удобного отсчета времени\n",
    "import time\n",
    "from tqdm import tqdm"
   ]
  },
  {
   "cell_type": "markdown",
   "metadata": {},
   "source": [
    "# Задание:\n",
    "Представьте, что вы работаете в крупном дейтинговом приложении.\n",
    "\n",
    "Помимо базовых функций, в приложении также имеется премиум-подписка, которая дает доступ к ряду важных дополнительных возможностей. Был проведен A/B тест, в рамках которого для новых пользователей из нескольких стран была изменена стоимость премиум-подписки```*``` при покупке через две новые платежные системы. При этом стоимость пробного периода оставалась прежней.\n",
    "\n",
    "**Проверьте:**\n",
    "\n",
    "Был ли эксперимент успешен в целом.\n",
    "\n",
    "```*``` *Деньги за подписку списываются ежемесячно до тех пор, пока пользователь её не отменит.*"
   ]
  },
  {
   "cell_type": "markdown",
   "metadata": {},
   "source": [
    "## Описание данных:\n",
    "Всего есть три группы: **тестовая (test), контрольная 1 (control_1) и контрольная 2 (control_2)**. Для каждой из них:\n",
    "\n",
    "```users_*.csv```– информация о пользователях:\n",
    "\n",
    "- uid – идентификатор пользователя\n",
    "- age – возраст\n",
    "- attraction_coeff – коэффициент привлекательности (от 0 до 1000, лайки / просмотры * 1000)\n",
    "- coins – число монеток (внутренняя валюта)\n",
    "- country – страна  \n",
    "- visit_days – в какие дни после регистрации пользователь посещал приложение (напр. в 1, затем в 7)\n",
    "- gender – пол\n",
    "- age_filter_start  – фильтр поиска, мин. значение \n",
    "- age_filter_end  – фильтр поиска, макс. значение \n",
    "- views_count – число полученных оценок \n",
    "- was_premium – был ли когда-либо премиум (либо пробный период премиум-статуса, либо купленный за деньги)\n",
    "- is_premium –  является ли премиум\n",
    "- total_revenue – нормированная выручка \n",
    "\n",
    "```transactions_*.csv``` – информация о платежах пользователей:\n",
    "\n",
    "- uid – идентификатор пользователя\n",
    "- country – страна\n",
    "- joined_at – дата и время регистрации\n",
    "- paid_at – дата и время покупки\n",
    "- revenue – нормированная выручка\n",
    "- payment_id – идентификатор платежа\n",
    "- from_page – откуда пользователь перешел на страницу оплаты\n",
    "- product_type – тип продукта (trial_premium – пробная премиум-подписка, premium_no_trial – премиум-подписка без пробной, coins – подписка за внутреннюю валюту, other_type – другое) "
   ]
  },
  {
   "cell_type": "markdown",
   "metadata": {},
   "source": [
    "# О задаче\n",
    "\n",
    "Основной вопрос (***был ли эксперимент успешен в целом?***) можно разложить на ряд второстепенных вопросов, ответы на которые дадут адекватное представление и о данных, и об эксперименте. \n",
    "\n",
    "Вопросы:\n",
    "- Действительно ли система сплитования работала корректно, и по группам люди распределялись случайно? \n",
    "- Есть ли в данных ошибки? И если да, то насколько сильно они искажают данные?\n",
    "- Достаточно ли собранных данных для подсчета метрик и поиска стат.значимых различий?\n",
    "- Насколько данные репрезентативны?\n",
    "- На какие метрики могло повлиять изменение? Значимо ли исследуемые метрики из тестовой группы отличаются от контрольной? \n",
    "\n",
    "Далее в работе я постараюсь ответить на вышеприведенные вопросы и в заключении на основе проведенного анализа дать оценку \"успешности\" или \"неуспешности\" теста в целом.\n",
    "\n",
    "Работа будет разбита на следующие этапы:\n",
    "1. загрузка и предобработка данных;\n",
    "2. проверка соотвествия данных общим требованиями А/А/В тестов;\n",
    "3. выделение тестовой и контрольных групп в соотвествии с условием задания;\n",
    "4. расчет и сравнение метрик для А/А и A/B -тестов;\n",
    "5. заключение и выводы."
   ]
  },
  {
   "cell_type": "markdown",
   "metadata": {},
   "source": [
    "# Часть 1. Загрузка и предобработка данных"
   ]
  },
  {
   "cell_type": "code",
   "execution_count": 4,
   "metadata": {},
   "outputs": [],
   "source": [
    "# Функция для загрузки датасетов с Яндекс-диска\n",
    "# Я заранее проверила, что разделение столбцов идет через точку с запятой, поэтому ставлю этот параметр по умолчанию\n",
    "\n",
    "def get_data(link, separator=';'): \n",
    "    base_url = 'https://cloud-api.yandex.net/v1/disk/public/resources/download?'\n",
    "    final_url = base_url + urlencode(dict(public_key=link)) # Получаю загрузочную ссылку\n",
    "    response = requests.get(final_url)\n",
    "    download_url = response.json()['href']\n",
    "    download_response = requests.get(download_url) # Загружаю файл и сохраняю его\n",
    "    with open('downloaded_file.csv', 'wb') as f:  \n",
    "        f.write(download_response.content) # Если ничего не указать, то файл скачается в папку, где лежит юпитер\n",
    "    return(pd.read_csv('downloaded_file.csv', sep = separator))"
   ]
  },
  {
   "cell_type": "code",
   "execution_count": 5,
   "metadata": {},
   "outputs": [],
   "source": [
    "# Загружаю датасеты\n",
    "\n",
    "users_test      = get_data(link='https://disk.yandex.ru/d/4XXIME4osGrMRA')\n",
    "users_control_1 = get_data(link='https://disk.yandex.ru/d/yJFydMNNGkEKfg')\n",
    "users_control_2 = get_data(link='https://disk.yandex.ru/d/br6KkQupzzTGoQ')\n",
    "\n",
    "transactions_test      = get_data(link='https://disk.yandex.ru/d/gvCWpZ55ODzs2g')\n",
    "transactions_control_1 = get_data(link='https://disk.yandex.ru/d/VY5W0keMX5TZBQ')\n",
    "transactions_control_2 = get_data(link='https://disk.yandex.ru/d/th5GL0mGOc-qzg')"
   ]
  },
  {
   "cell_type": "markdown",
   "metadata": {},
   "source": [
    "***Небольшая ремарка***. Если будете тестировать работу кода у себя локально, то последний скачанный файл (`transactions_control_2`) сохранится в той же папке, где лежит ноутбук, под именем `downloaded_file.csv`. Это результат работы функции. Если файл больше не нужен, можно удалить его позже вручную."
   ]
  },
  {
   "cell_type": "markdown",
   "metadata": {},
   "source": [
    "**Пропущенные значения в датафреймах**"
   ]
  },
  {
   "cell_type": "code",
   "execution_count": 6,
   "metadata": {},
   "outputs": [
    {
     "data": {
      "text/html": [
       "<div>\n",
       "<style scoped>\n",
       "    .dataframe tbody tr th:only-of-type {\n",
       "        vertical-align: middle;\n",
       "    }\n",
       "\n",
       "    .dataframe tbody tr th {\n",
       "        vertical-align: top;\n",
       "    }\n",
       "\n",
       "    .dataframe thead th {\n",
       "        text-align: right;\n",
       "    }\n",
       "</style>\n",
       "<table border=\"1\" class=\"dataframe\">\n",
       "  <thead>\n",
       "    <tr style=\"text-align: right;\">\n",
       "      <th></th>\n",
       "      <th>users_control_1</th>\n",
       "      <th>users_control_2</th>\n",
       "      <th>users_test</th>\n",
       "    </tr>\n",
       "  </thead>\n",
       "  <tbody>\n",
       "    <tr>\n",
       "      <th>uid</th>\n",
       "      <td>0</td>\n",
       "      <td>0</td>\n",
       "      <td>0</td>\n",
       "    </tr>\n",
       "    <tr>\n",
       "      <th>age</th>\n",
       "      <td>0</td>\n",
       "      <td>0</td>\n",
       "      <td>0</td>\n",
       "    </tr>\n",
       "    <tr>\n",
       "      <th>attraction_coeff</th>\n",
       "      <td>0</td>\n",
       "      <td>0</td>\n",
       "      <td>0</td>\n",
       "    </tr>\n",
       "    <tr>\n",
       "      <th>coins</th>\n",
       "      <td>4280</td>\n",
       "      <td>4203</td>\n",
       "      <td>4259</td>\n",
       "    </tr>\n",
       "    <tr>\n",
       "      <th>country</th>\n",
       "      <td>0</td>\n",
       "      <td>0</td>\n",
       "      <td>0</td>\n",
       "    </tr>\n",
       "    <tr>\n",
       "      <th>visit_days</th>\n",
       "      <td>1324</td>\n",
       "      <td>1364</td>\n",
       "      <td>1330</td>\n",
       "    </tr>\n",
       "    <tr>\n",
       "      <th>gender</th>\n",
       "      <td>0</td>\n",
       "      <td>0</td>\n",
       "      <td>0</td>\n",
       "    </tr>\n",
       "    <tr>\n",
       "      <th>age_filter_start</th>\n",
       "      <td>0</td>\n",
       "      <td>0</td>\n",
       "      <td>0</td>\n",
       "    </tr>\n",
       "    <tr>\n",
       "      <th>age_filter_end</th>\n",
       "      <td>0</td>\n",
       "      <td>0</td>\n",
       "      <td>0</td>\n",
       "    </tr>\n",
       "    <tr>\n",
       "      <th>views_count</th>\n",
       "      <td>0</td>\n",
       "      <td>0</td>\n",
       "      <td>0</td>\n",
       "    </tr>\n",
       "    <tr>\n",
       "      <th>was_premium</th>\n",
       "      <td>3904</td>\n",
       "      <td>3853</td>\n",
       "      <td>3900</td>\n",
       "    </tr>\n",
       "    <tr>\n",
       "      <th>is_premium</th>\n",
       "      <td>4148</td>\n",
       "      <td>4073</td>\n",
       "      <td>4151</td>\n",
       "    </tr>\n",
       "    <tr>\n",
       "      <th>total_revenue</th>\n",
       "      <td>0</td>\n",
       "      <td>0</td>\n",
       "      <td>0</td>\n",
       "    </tr>\n",
       "  </tbody>\n",
       "</table>\n",
       "</div>"
      ],
      "text/plain": [
       "                  users_control_1  users_control_2  users_test\n",
       "uid                             0                0           0\n",
       "age                             0                0           0\n",
       "attraction_coeff                0                0           0\n",
       "coins                        4280             4203        4259\n",
       "country                         0                0           0\n",
       "visit_days                   1324             1364        1330\n",
       "gender                          0                0           0\n",
       "age_filter_start                0                0           0\n",
       "age_filter_end                  0                0           0\n",
       "views_count                     0                0           0\n",
       "was_premium                  3904             3853        3900\n",
       "is_premium                   4148             4073        4151\n",
       "total_revenue                   0                0           0"
      ]
     },
     "execution_count": 6,
     "metadata": {},
     "output_type": "execute_result"
    }
   ],
   "source": [
    "# Пропущенные значения в датафреймах с users\n",
    "\n",
    "pd.DataFrame(index = users_control_1.columns.tolist(), \n",
    "             data = {'users_control_1' : users_control_1.isna().sum().tolist(), \n",
    "                    'users_control_2' : users_control_2.isna().sum().tolist(), \n",
    "                    'users_test' : users_test.isna().sum().tolist()})"
   ]
  },
  {
   "cell_type": "markdown",
   "metadata": {},
   "source": [
    "В группе `users` пропущенные значения есть только в 4 столбцах: `coins`, `visit_days`, `was_premium`, `is_premium`. Избавляться от NaN не стоит, их вполне можно заменить на нули. Объясню, почему. Вот, например, строкой ниже показано, что у `was_premium`и `is_premuim` есть всего одна градация (*= факт наличия премиум-подписки*), соотвественно, NaN-значения - это факт отсутсвия подписки, то есть ноль. Со столбцами `coins` и `visit_days` та же логика. Поэтому далее просто меняю все NaN-значения на нули."
   ]
  },
  {
   "cell_type": "code",
   "execution_count": 7,
   "metadata": {},
   "outputs": [
    {
     "data": {
      "text/plain": [
       "was_premium    1\n",
       "is_premium     1\n",
       "dtype: int64"
      ]
     },
     "execution_count": 7,
     "metadata": {},
     "output_type": "execute_result"
    }
   ],
   "source": [
    "# Подтверждение, что у was_premium и is_premium только одна градация\n",
    "\n",
    "users_test.agg({'was_premium':'nunique', 'is_premium':'nunique'})"
   ]
  },
  {
   "cell_type": "code",
   "execution_count": 8,
   "metadata": {},
   "outputs": [],
   "source": [
    "# Меняю NaN на нули (у 'visit_days' поменяю NaN позже):\n",
    "\n",
    "for x in [users_test, users_control_1, users_control_2]:\n",
    "    x['coins'] = x.coins.fillna(0)\n",
    "    x['was_premium'] = x.was_premium.fillna(0)\n",
    "    x['is_premium'] = x.is_premium.fillna(0)"
   ]
  },
  {
   "cell_type": "code",
   "execution_count": 9,
   "metadata": {},
   "outputs": [
    {
     "data": {
      "text/html": [
       "<div>\n",
       "<style scoped>\n",
       "    .dataframe tbody tr th:only-of-type {\n",
       "        vertical-align: middle;\n",
       "    }\n",
       "\n",
       "    .dataframe tbody tr th {\n",
       "        vertical-align: top;\n",
       "    }\n",
       "\n",
       "    .dataframe thead th {\n",
       "        text-align: right;\n",
       "    }\n",
       "</style>\n",
       "<table border=\"1\" class=\"dataframe\">\n",
       "  <thead>\n",
       "    <tr style=\"text-align: right;\">\n",
       "      <th></th>\n",
       "      <th>transactions_control_1</th>\n",
       "      <th>transactions_control_2</th>\n",
       "      <th>transactions_test</th>\n",
       "    </tr>\n",
       "  </thead>\n",
       "  <tbody>\n",
       "    <tr>\n",
       "      <th>uid</th>\n",
       "      <td>630</td>\n",
       "      <td>0</td>\n",
       "      <td>0</td>\n",
       "    </tr>\n",
       "    <tr>\n",
       "      <th>country</th>\n",
       "      <td>630</td>\n",
       "      <td>0</td>\n",
       "      <td>0</td>\n",
       "    </tr>\n",
       "    <tr>\n",
       "      <th>joined_at</th>\n",
       "      <td>0</td>\n",
       "      <td>0</td>\n",
       "      <td>0</td>\n",
       "    </tr>\n",
       "    <tr>\n",
       "      <th>paid_at</th>\n",
       "      <td>0</td>\n",
       "      <td>0</td>\n",
       "      <td>0</td>\n",
       "    </tr>\n",
       "    <tr>\n",
       "      <th>revenue</th>\n",
       "      <td>630</td>\n",
       "      <td>0</td>\n",
       "      <td>0</td>\n",
       "    </tr>\n",
       "    <tr>\n",
       "      <th>payment_id</th>\n",
       "      <td>630</td>\n",
       "      <td>0</td>\n",
       "      <td>0</td>\n",
       "    </tr>\n",
       "    <tr>\n",
       "      <th>from_page</th>\n",
       "      <td>630</td>\n",
       "      <td>0</td>\n",
       "      <td>0</td>\n",
       "    </tr>\n",
       "    <tr>\n",
       "      <th>product_type</th>\n",
       "      <td>630</td>\n",
       "      <td>0</td>\n",
       "      <td>0</td>\n",
       "    </tr>\n",
       "  </tbody>\n",
       "</table>\n",
       "</div>"
      ],
      "text/plain": [
       "              transactions_control_1  transactions_control_2   \n",
       "uid                              630                       0  \\\n",
       "country                          630                       0   \n",
       "joined_at                          0                       0   \n",
       "paid_at                            0                       0   \n",
       "revenue                          630                       0   \n",
       "payment_id                       630                       0   \n",
       "from_page                        630                       0   \n",
       "product_type                     630                       0   \n",
       "\n",
       "              transactions_test  \n",
       "uid                           0  \n",
       "country                       0  \n",
       "joined_at                     0  \n",
       "paid_at                       0  \n",
       "revenue                       0  \n",
       "payment_id                    0  \n",
       "from_page                     0  \n",
       "product_type                  0  "
      ]
     },
     "execution_count": 9,
     "metadata": {},
     "output_type": "execute_result"
    }
   ],
   "source": [
    "# Пропущенные значения в датафреймах с transactions\n",
    "\n",
    "pd.DataFrame(index = transactions_control_1.columns.tolist(), \n",
    "             data = {'transactions_control_1' : transactions_control_1.isna().sum().tolist(), \n",
    "                     'transactions_control_2' : transactions_control_2.isna().sum().tolist(), \n",
    "                     'transactions_test' : transactions_test.isna().sum().tolist()})"
   ]
  },
  {
   "cell_type": "markdown",
   "metadata": {},
   "source": [
    "Теперь перейду к группе `transactions`. Только в датасете `transactions_control_1` наблюдаются NaN. Причем значения пропущены полностью по всем столбцам (`joined_at` и `paid_at` считаны как строки, соотвественно, Nan считан тоже как строка). В строке ниже я покажу это на самом датасете. \n",
    "\n",
    "Единственно приемлемым решением мне представляется удаление этих строк."
   ]
  },
  {
   "cell_type": "code",
   "execution_count": 10,
   "metadata": {},
   "outputs": [
    {
     "data": {
      "text/html": [
       "<div>\n",
       "<style scoped>\n",
       "    .dataframe tbody tr th:only-of-type {\n",
       "        vertical-align: middle;\n",
       "    }\n",
       "\n",
       "    .dataframe tbody tr th {\n",
       "        vertical-align: top;\n",
       "    }\n",
       "\n",
       "    .dataframe thead th {\n",
       "        text-align: right;\n",
       "    }\n",
       "</style>\n",
       "<table border=\"1\" class=\"dataframe\">\n",
       "  <thead>\n",
       "    <tr style=\"text-align: right;\">\n",
       "      <th></th>\n",
       "      <th>uid</th>\n",
       "      <th>country</th>\n",
       "      <th>joined_at</th>\n",
       "      <th>paid_at</th>\n",
       "      <th>revenue</th>\n",
       "      <th>payment_id</th>\n",
       "      <th>from_page</th>\n",
       "      <th>product_type</th>\n",
       "    </tr>\n",
       "  </thead>\n",
       "  <tbody>\n",
       "    <tr>\n",
       "      <th>377</th>\n",
       "      <td>NaN</td>\n",
       "      <td>NaN</td>\n",
       "      <td>NaT</td>\n",
       "      <td>NaT</td>\n",
       "      <td>NaN</td>\n",
       "      <td>NaN</td>\n",
       "      <td>NaN</td>\n",
       "      <td>NaN</td>\n",
       "    </tr>\n",
       "    <tr>\n",
       "      <th>378</th>\n",
       "      <td>NaN</td>\n",
       "      <td>NaN</td>\n",
       "      <td>NaT</td>\n",
       "      <td>NaT</td>\n",
       "      <td>NaN</td>\n",
       "      <td>NaN</td>\n",
       "      <td>NaN</td>\n",
       "      <td>NaN</td>\n",
       "    </tr>\n",
       "    <tr>\n",
       "      <th>379</th>\n",
       "      <td>NaN</td>\n",
       "      <td>NaN</td>\n",
       "      <td>NaT</td>\n",
       "      <td>NaT</td>\n",
       "      <td>NaN</td>\n",
       "      <td>NaN</td>\n",
       "      <td>NaN</td>\n",
       "      <td>NaN</td>\n",
       "    </tr>\n",
       "  </tbody>\n",
       "</table>\n",
       "</div>"
      ],
      "text/plain": [
       "     uid country joined_at paid_at  revenue  payment_id from_page product_type\n",
       "377  NaN     NaN       NaT     NaT      NaN         NaN       NaN          NaN\n",
       "378  NaN     NaN       NaT     NaT      NaN         NaN       NaN          NaN\n",
       "379  NaN     NaN       NaT     NaT      NaN         NaN       NaN          NaN"
      ]
     },
     "execution_count": 10,
     "metadata": {},
     "output_type": "execute_result"
    }
   ],
   "source": [
    "# Вот так нагляднее: пропущенные строки в transactions_control_1\n",
    "\n",
    "transactions_control_1[transactions_control_1.uid.isna()].head(3)"
   ]
  },
  {
   "cell_type": "code",
   "execution_count": 11,
   "metadata": {},
   "outputs": [],
   "source": [
    "# Удаляю пропущенные строки\n",
    "transactions_control_1 = transactions_control_1.dropna()"
   ]
  },
  {
   "cell_type": "code",
   "execution_count": 12,
   "metadata": {},
   "outputs": [
    {
     "data": {
      "text/html": [
       "<div>\n",
       "<style scoped>\n",
       "    .dataframe tbody tr th:only-of-type {\n",
       "        vertical-align: middle;\n",
       "    }\n",
       "\n",
       "    .dataframe tbody tr th {\n",
       "        vertical-align: top;\n",
       "    }\n",
       "\n",
       "    .dataframe thead th {\n",
       "        text-align: right;\n",
       "    }\n",
       "</style>\n",
       "<table border=\"1\" class=\"dataframe\">\n",
       "  <thead>\n",
       "    <tr style=\"text-align: right;\">\n",
       "      <th></th>\n",
       "      <th>shape</th>\n",
       "    </tr>\n",
       "  </thead>\n",
       "  <tbody>\n",
       "    <tr>\n",
       "      <th>users_test</th>\n",
       "      <td>4308</td>\n",
       "    </tr>\n",
       "    <tr>\n",
       "      <th>users_control_1</th>\n",
       "      <td>4340</td>\n",
       "    </tr>\n",
       "    <tr>\n",
       "      <th>users_control_2</th>\n",
       "      <td>4264</td>\n",
       "    </tr>\n",
       "    <tr>\n",
       "      <th>transactions_test</th>\n",
       "      <td>273</td>\n",
       "    </tr>\n",
       "    <tr>\n",
       "      <th>transactions_control_1</th>\n",
       "      <td>377</td>\n",
       "    </tr>\n",
       "    <tr>\n",
       "      <th>transactions_control_2</th>\n",
       "      <td>328</td>\n",
       "    </tr>\n",
       "  </tbody>\n",
       "</table>\n",
       "</div>"
      ],
      "text/plain": [
       "                        shape\n",
       "users_test               4308\n",
       "users_control_1          4340\n",
       "users_control_2          4264\n",
       "transactions_test         273\n",
       "transactions_control_1    377\n",
       "transactions_control_2    328"
      ]
     },
     "execution_count": 12,
     "metadata": {},
     "output_type": "execute_result"
    }
   ],
   "source": [
    "# Размеры датафреймов\n",
    "\n",
    "pd.DataFrame(index = ['users_test', 'users_control_1', 'users_control_2', \n",
    "                      'transactions_test', 'transactions_control_1', 'transactions_control_2'], \n",
    "             data = {'shape' : [users_test.shape[0], users_control_1.shape[0], users_control_2.shape[0],\n",
    "                               transactions_test.shape[0], transactions_control_1.shape[0], transactions_control_2.shape[0]]})"
   ]
  },
  {
   "cell_type": "markdown",
   "metadata": {},
   "source": [
    "Размеры датафреймов сильно различаются, то есть если их смерджить, потеряется существенная часть данных. "
   ]
  },
  {
   "cell_type": "code",
   "execution_count": 13,
   "metadata": {},
   "outputs": [
    {
     "data": {
      "text/plain": [
       "True"
      ]
     },
     "execution_count": 13,
     "metadata": {},
     "output_type": "execute_result"
    },
    {
     "data": {
      "text/plain": [
       "True"
      ]
     },
     "execution_count": 13,
     "metadata": {},
     "output_type": "execute_result"
    },
    {
     "data": {
      "text/plain": [
       "True"
      ]
     },
     "execution_count": 13,
     "metadata": {},
     "output_type": "execute_result"
    }
   ],
   "source": [
    "# Но сначала проверю, действительно ли уникальны значения uid в users\n",
    "\n",
    "users_test.uid.nunique()      == users_test.shape[0]\n",
    "users_control_1.uid.nunique() == users_control_1.shape[0]\n",
    "users_control_2.uid.nunique() == users_control_2.shape[0]"
   ]
  },
  {
   "cell_type": "markdown",
   "metadata": {},
   "source": [
    "Да, в каждом из датафреймов группы `users` `uid` уникальны. Это значит, что в `transactions` учитываются далеко не все `uid`, что очень логично - ведь не все пользователи приложения что-то покупали. Однако для крупного дейтингового приложения по 200-300 транзакций на каждую группу все равно, мне кажется, маловато.\n",
    "\n",
    "Также на всякий случай стоит проверить, не пересекаются ли группы друг с другом. Строкой ниже я это проверяю ---> нет, во всех группах юзеры уникальны, пересечений нет, что уже хорошо."
   ]
  },
  {
   "cell_type": "code",
   "execution_count": 14,
   "metadata": {},
   "outputs": [
    {
     "data": {
      "text/plain": [
       "0"
      ]
     },
     "execution_count": 14,
     "metadata": {},
     "output_type": "execute_result"
    },
    {
     "data": {
      "text/plain": [
       "0"
      ]
     },
     "execution_count": 14,
     "metadata": {},
     "output_type": "execute_result"
    },
    {
     "data": {
      "text/plain": [
       "0"
      ]
     },
     "execution_count": 14,
     "metadata": {},
     "output_type": "execute_result"
    }
   ],
   "source": [
    "# Проверяю, есть ли такие юзеры, которые случайно могли попасть в две разные группы. Если ноль, то всё ок\n",
    "\n",
    "sum([True if x in users_control_1.uid.tolist() else False for x in users_test.uid.tolist()])\n",
    "sum([True if x in users_control_2.uid.tolist() else False for x in users_test.uid.tolist()])\n",
    "sum([True if x in users_control_1.uid.tolist() else False for x in users_control_2.uid.tolist()])"
   ]
  },
  {
   "cell_type": "markdown",
   "metadata": {},
   "source": [
    "**Формат данных.** Здесь я сразу вижу две проблемы: нечитаемый строковый формат в `visit_days` и *object* у столбцов `joined_at` и `paid_at`. Всё это легко исправить."
   ]
  },
  {
   "cell_type": "code",
   "execution_count": 15,
   "metadata": {},
   "outputs": [
    {
     "data": {
      "text/html": [
       "<div>\n",
       "<style scoped>\n",
       "    .dataframe tbody tr th:only-of-type {\n",
       "        vertical-align: middle;\n",
       "    }\n",
       "\n",
       "    .dataframe tbody tr th {\n",
       "        vertical-align: top;\n",
       "    }\n",
       "\n",
       "    .dataframe thead th {\n",
       "        text-align: right;\n",
       "    }\n",
       "</style>\n",
       "<table border=\"1\" class=\"dataframe\">\n",
       "  <thead>\n",
       "    <tr style=\"text-align: right;\">\n",
       "      <th></th>\n",
       "      <th>users_control_1</th>\n",
       "      <th>users_control_2</th>\n",
       "      <th>users_test</th>\n",
       "    </tr>\n",
       "  </thead>\n",
       "  <tbody>\n",
       "    <tr>\n",
       "      <th>uid</th>\n",
       "      <td>int64</td>\n",
       "      <td>int64</td>\n",
       "      <td>int64</td>\n",
       "    </tr>\n",
       "    <tr>\n",
       "      <th>age</th>\n",
       "      <td>int64</td>\n",
       "      <td>int64</td>\n",
       "      <td>int64</td>\n",
       "    </tr>\n",
       "    <tr>\n",
       "      <th>attraction_coeff</th>\n",
       "      <td>int64</td>\n",
       "      <td>int64</td>\n",
       "      <td>int64</td>\n",
       "    </tr>\n",
       "    <tr>\n",
       "      <th>coins</th>\n",
       "      <td>float64</td>\n",
       "      <td>float64</td>\n",
       "      <td>float64</td>\n",
       "    </tr>\n",
       "    <tr>\n",
       "      <th>country</th>\n",
       "      <td>object</td>\n",
       "      <td>object</td>\n",
       "      <td>object</td>\n",
       "    </tr>\n",
       "    <tr>\n",
       "      <th>visit_days</th>\n",
       "      <td>object</td>\n",
       "      <td>object</td>\n",
       "      <td>object</td>\n",
       "    </tr>\n",
       "    <tr>\n",
       "      <th>gender</th>\n",
       "      <td>int64</td>\n",
       "      <td>int64</td>\n",
       "      <td>int64</td>\n",
       "    </tr>\n",
       "    <tr>\n",
       "      <th>age_filter_start</th>\n",
       "      <td>int64</td>\n",
       "      <td>int64</td>\n",
       "      <td>int64</td>\n",
       "    </tr>\n",
       "    <tr>\n",
       "      <th>age_filter_end</th>\n",
       "      <td>int64</td>\n",
       "      <td>int64</td>\n",
       "      <td>int64</td>\n",
       "    </tr>\n",
       "    <tr>\n",
       "      <th>views_count</th>\n",
       "      <td>int64</td>\n",
       "      <td>int64</td>\n",
       "      <td>int64</td>\n",
       "    </tr>\n",
       "    <tr>\n",
       "      <th>was_premium</th>\n",
       "      <td>float64</td>\n",
       "      <td>float64</td>\n",
       "      <td>float64</td>\n",
       "    </tr>\n",
       "    <tr>\n",
       "      <th>is_premium</th>\n",
       "      <td>float64</td>\n",
       "      <td>float64</td>\n",
       "      <td>float64</td>\n",
       "    </tr>\n",
       "    <tr>\n",
       "      <th>total_revenue</th>\n",
       "      <td>int64</td>\n",
       "      <td>int64</td>\n",
       "      <td>int64</td>\n",
       "    </tr>\n",
       "  </tbody>\n",
       "</table>\n",
       "</div>"
      ],
      "text/plain": [
       "                 users_control_1 users_control_2 users_test\n",
       "uid                        int64           int64      int64\n",
       "age                        int64           int64      int64\n",
       "attraction_coeff           int64           int64      int64\n",
       "coins                    float64         float64    float64\n",
       "country                   object          object     object\n",
       "visit_days                object          object     object\n",
       "gender                     int64           int64      int64\n",
       "age_filter_start           int64           int64      int64\n",
       "age_filter_end             int64           int64      int64\n",
       "views_count                int64           int64      int64\n",
       "was_premium              float64         float64    float64\n",
       "is_premium               float64         float64    float64\n",
       "total_revenue              int64           int64      int64"
      ]
     },
     "execution_count": 15,
     "metadata": {},
     "output_type": "execute_result"
    }
   ],
   "source": [
    "# Типы данных в датафреймах с users\n",
    "\n",
    "pd.DataFrame(index = users_control_1.columns.tolist(), \n",
    "             data = {'users_control_1' : list(users_control_1.dtypes.values), \n",
    "                    'users_control_2' : list(users_control_2.dtypes.values), \n",
    "                    'users_test' : list(users_test.dtypes.values)})"
   ]
  },
  {
   "cell_type": "code",
   "execution_count": 16,
   "metadata": {},
   "outputs": [
    {
     "data": {
      "text/html": [
       "<div>\n",
       "<style scoped>\n",
       "    .dataframe tbody tr th:only-of-type {\n",
       "        vertical-align: middle;\n",
       "    }\n",
       "\n",
       "    .dataframe tbody tr th {\n",
       "        vertical-align: top;\n",
       "    }\n",
       "\n",
       "    .dataframe thead th {\n",
       "        text-align: right;\n",
       "    }\n",
       "</style>\n",
       "<table border=\"1\" class=\"dataframe\">\n",
       "  <thead>\n",
       "    <tr style=\"text-align: right;\">\n",
       "      <th></th>\n",
       "      <th>transactions_control_1</th>\n",
       "      <th>transactions_control_2</th>\n",
       "      <th>transactions_test</th>\n",
       "    </tr>\n",
       "  </thead>\n",
       "  <tbody>\n",
       "    <tr>\n",
       "      <th>uid</th>\n",
       "      <td>float64</td>\n",
       "      <td>int64</td>\n",
       "      <td>int64</td>\n",
       "    </tr>\n",
       "    <tr>\n",
       "      <th>country</th>\n",
       "      <td>object</td>\n",
       "      <td>object</td>\n",
       "      <td>object</td>\n",
       "    </tr>\n",
       "    <tr>\n",
       "      <th>joined_at</th>\n",
       "      <td>object</td>\n",
       "      <td>object</td>\n",
       "      <td>object</td>\n",
       "    </tr>\n",
       "    <tr>\n",
       "      <th>paid_at</th>\n",
       "      <td>object</td>\n",
       "      <td>object</td>\n",
       "      <td>object</td>\n",
       "    </tr>\n",
       "    <tr>\n",
       "      <th>revenue</th>\n",
       "      <td>float64</td>\n",
       "      <td>int64</td>\n",
       "      <td>int64</td>\n",
       "    </tr>\n",
       "    <tr>\n",
       "      <th>payment_id</th>\n",
       "      <td>float64</td>\n",
       "      <td>int64</td>\n",
       "      <td>int64</td>\n",
       "    </tr>\n",
       "    <tr>\n",
       "      <th>from_page</th>\n",
       "      <td>object</td>\n",
       "      <td>object</td>\n",
       "      <td>object</td>\n",
       "    </tr>\n",
       "    <tr>\n",
       "      <th>product_type</th>\n",
       "      <td>object</td>\n",
       "      <td>object</td>\n",
       "      <td>object</td>\n",
       "    </tr>\n",
       "  </tbody>\n",
       "</table>\n",
       "</div>"
      ],
      "text/plain": [
       "             transactions_control_1 transactions_control_2 transactions_test\n",
       "uid                         float64                  int64             int64\n",
       "country                      object                 object            object\n",
       "joined_at                    object                 object            object\n",
       "paid_at                      object                 object            object\n",
       "revenue                     float64                  int64             int64\n",
       "payment_id                  float64                  int64             int64\n",
       "from_page                    object                 object            object\n",
       "product_type                 object                 object            object"
      ]
     },
     "execution_count": 16,
     "metadata": {},
     "output_type": "execute_result"
    }
   ],
   "source": [
    "# Типы данных в датафреймах с transactions\n",
    "\n",
    "pd.DataFrame(index = transactions_control_1.columns.tolist(), \n",
    "             data = {'transactions_control_1' : list(transactions_control_1.dtypes.values), \n",
    "                     'transactions_control_2' : list(transactions_control_2.dtypes.values), \n",
    "                     'transactions_test' : list(transactions_test.dtypes.values)})"
   ]
  },
  {
   "cell_type": "code",
   "execution_count": 17,
   "metadata": {},
   "outputs": [],
   "source": [
    "# Преобразую столбцы с датами в тип datetime\n",
    "\n",
    "for x in [transactions_test, transactions_control_1, transactions_control_2]:\n",
    "    x['joined_at'] = pd.to_datetime(x.joined_at)\n",
    "    x['paid_at'] = pd.to_datetime(x.paid_at)"
   ]
  },
  {
   "cell_type": "code",
   "execution_count": 18,
   "metadata": {},
   "outputs": [],
   "source": [
    "# Преобразую в список с int столбец visit_days во всех датафреймах users\n",
    "\n",
    "for x in [users_test, users_control_1, users_control_2]:\n",
    "    result = []\n",
    "    for i in x.visit_days:\n",
    "        try:\n",
    "            result.append([int(e) for e in re.findall('\\d', i)])\n",
    "        except:\n",
    "            result.append(None)\n",
    "    x['visit_days'] = result"
   ]
  },
  {
   "cell_type": "code",
   "execution_count": 19,
   "metadata": {},
   "outputs": [],
   "source": [
    "# Удаляю пропущенные значения у visit_days\n",
    "\n",
    "for x in [users_test, users_control_1, users_control_2]:\n",
    "    x['visit_days'] = x.visit_days.fillna(0)"
   ]
  },
  {
   "cell_type": "markdown",
   "metadata": {},
   "source": [
    "**Дублирующиеся строки**"
   ]
  },
  {
   "cell_type": "code",
   "execution_count": 20,
   "metadata": {},
   "outputs": [
    {
     "name": "stdout",
     "output_type": "stream",
     "text": [
      "\n",
      "Дубликаты у users_test:      False\n",
      "Дубликаты у users_control_1: False \n",
      "Дубликаты у users_control_2: False \n",
      "\n",
      "------------------------------------\n",
      "\n",
      "Дубликаты у transactions_test:      True\n",
      "Дубликаты у transactions_control_1: True\n",
      "Дубликаты у transactions_control_2: True\n"
     ]
    }
   ],
   "source": [
    "# Есть ли в данных дубликаты?\n",
    "\n",
    "print(f\"\"\"\n",
    "Дубликаты у users_test:      {users_test[users_test.columns.difference(['visit_days'])].duplicated().any()}\n",
    "Дубликаты у users_control_1: {users_control_1[users_control_1.columns.difference(['visit_days'])].duplicated().any()} \n",
    "Дубликаты у users_control_2: {users_control_2[users_control_2.columns.difference(['visit_days'])].duplicated().any()} \n",
    "\n",
    "------------------------------------\n",
    "\n",
    "Дубликаты у transactions_test:      {transactions_test.duplicated().any()}\n",
    "Дубликаты у transactions_control_1: {transactions_control_1.duplicated().any()}\n",
    "Дубликаты у transactions_control_2: {transactions_control_2.duplicated().any()}\"\"\")"
   ]
  },
  {
   "cell_type": "markdown",
   "metadata": {},
   "source": [
    "Дублирующиеся строки были найдены только у датафреймов `transactions`. Сначала посмотрю, сколько их, потом удалю. "
   ]
  },
  {
   "cell_type": "code",
   "execution_count": 21,
   "metadata": {},
   "outputs": [
    {
     "name": "stdout",
     "output_type": "stream",
     "text": [
      "\n",
      "Дубликаты у transactions_test:      7; 2.564102564102564%\n",
      "Дубликаты у transactions_control_1: 21; 5.570291777188329%\n",
      "Дубликаты у transactions_control_2: 5; 1.524390243902439%\n",
      "\n"
     ]
    }
   ],
   "source": [
    "print(f\"\"\"\n",
    "Дубликаты у transactions_test:      {transactions_test.duplicated().sum()}; {transactions_test.duplicated().sum()/transactions_test.shape[0]*100}%\n",
    "Дубликаты у transactions_control_1: {transactions_control_1.duplicated().sum()}; {transactions_control_1.duplicated().sum()/transactions_control_1.shape[0]*100}%\n",
    "Дубликаты у transactions_control_2: {transactions_control_2.duplicated().sum()}; {transactions_control_2.duplicated().sum()/transactions_control_2.shape[0]*100}%\n",
    "\"\"\")"
   ]
  },
  {
   "cell_type": "markdown",
   "metadata": {},
   "source": [
    "Количество дублирующихся строк незначительно в `test` и `control_2`, однако в `control_1` их реально много - 5% от датасета. Я здесь сразу вижу проблему, но она не в самом дублировании, а в факте того, что `total_revenue` в `users` высчитывался по `revenue` из `transactions`. И если удалить дублирующиеся строки, то значения не будут биться между собой. \n",
    "\n",
    "В данном случае можно либо пересчитать `total_revenue` для юзеров с дублирующимися строками, либо просто оставить все как есть (*если значения не сильно отличаются, то второй вариант оптимальный*). \n",
    "\n",
    "Важно то, что это системная проблема: еще на этапе отбора данных надо отсеивать дубликаты и только потом считать `total_revenue` в `users`. *Сейчас покажу это на примере.*"
   ]
  },
  {
   "cell_type": "code",
   "execution_count": 22,
   "metadata": {},
   "outputs": [
    {
     "name": "stdout",
     "output_type": "stream",
     "text": [
      "\n",
      "Возьму uid с наибольшим количеством дубликатов из самой проблемной группы transactions_control_1.\n",
      "Это uid = 892333905.0\n",
      "Его total_revenue, посчитанный по revenue в transactions_control_1: 486330.0\n",
      "Совпадает ли с total_revenue из users_control_1?: True\n",
      "Да, совпадает.\n",
      "\n",
      "А теперь уберу дубликаты и снова проверю: False\n",
      "Вот теперь не совпадает. Пересчитанный total_revenue: 403104.0\n",
      "\n",
      "Насколько сильно отличается пересчитанное значение от изначального?\n",
      "Пересчитанное значение по отношению к исходному уменьшилось на 17.1130713712911%\n"
     ]
    }
   ],
   "source": [
    "print(f'''\n",
    "Возьму uid с наибольшим количеством дубликатов из самой проблемной группы transactions_control_1.\n",
    "Это uid = {transactions_control_1[transactions_control_1.duplicated()].groupby('uid').paid_at.count().idxmax()}\n",
    "Его total_revenue, посчитанный по revenue в transactions_control_1: {transactions_control_1[transactions_control_1.uid == 892333905.0].revenue.sum()}\n",
    "Совпадает ли с total_revenue из users_control_1?: {(transactions_control_1[transactions_control_1.uid == 892333905.0].revenue.sum() == users_control_1[users_control_1.uid == 892333905.0].total_revenue).values[0]}\n",
    "Да, совпадает.\n",
    "\n",
    "А теперь уберу дубликаты и снова проверю: {(transactions_control_1[transactions_control_1.uid == 892333905.0].drop_duplicates().revenue.sum() == users_control_1[users_control_1.uid == 892333905.0].total_revenue).values[0]}\n",
    "Вот теперь не совпадает. Пересчитанный total_revenue: {transactions_control_1[transactions_control_1.uid == 892333905.0].drop_duplicates().revenue.sum()}\n",
    "\n",
    "Насколько сильно отличается пересчитанное значение от изначального?\n",
    "Пересчитанное значение по отношению к исходному уменьшилось на {\n",
    "( ( transactions_control_1[transactions_control_1.uid == 892333905.0].revenue.sum() - \n",
    "    transactions_control_1[transactions_control_1.uid == 892333905.0].drop_duplicates().revenue.sum() ) / \n",
    "    transactions_control_1[transactions_control_1.uid == 892333905.0].revenue.sum() * 100 )}%''')"
   ]
  },
  {
   "cell_type": "markdown",
   "metadata": {},
   "source": [
    "Конечно, в примере выше показан самый экстремальный случай. У других `uid`, уверена, расхождения меньше. Считаю, все же лучше пересчитать `total_revenue` по дублирующимся `uid`, их все равно не так много."
   ]
  },
  {
   "cell_type": "code",
   "execution_count": 24,
   "metadata": {},
   "outputs": [],
   "source": [
    "# Записываю uid из дублирующихся строк в список \n",
    "\n",
    "test_dup_uid      = transactions_test[transactions_test.duplicated()].uid.tolist()\n",
    "control_1_dup_uid = transactions_control_1[transactions_control_1.duplicated()].uid.tolist()\n",
    "control_2_dup_uid = transactions_control_2[transactions_control_2.duplicated()].uid.tolist()"
   ]
  },
  {
   "cell_type": "code",
   "execution_count": 25,
   "metadata": {},
   "outputs": [],
   "source": [
    "# Удаляю дубликаты\n",
    "\n",
    "transactions_test      = transactions_test.drop_duplicates(keep='first')\n",
    "transactions_control_1 = transactions_control_1.drop_duplicates(keep='first')\n",
    "transactions_control_2 = transactions_control_2.drop_duplicates(keep='first')"
   ]
  },
  {
   "cell_type": "code",
   "execution_count": 26,
   "metadata": {},
   "outputs": [],
   "source": [
    "# Меняю значения в столбце total_revenue\n",
    "\n",
    "# Создаю вспомогательные датафреймы (потом их удалю)\n",
    "tr_test_repl      = (transactions_test.drop_duplicates().query('uid in @test_dup_uid')\n",
    "                     .groupby('uid', as_index=False).agg({'revenue':'sum'})\n",
    "                     .rename(columns={'revenue':'sum_rev'}))\n",
    "tr_control_1_repl = (transactions_control_1.drop_duplicates().query('uid in @test_dup_uid')\n",
    "                     .groupby('uid', as_index=False).agg({'revenue':'sum'})\n",
    "                     .rename(columns={'revenue':'sum_rev'}))\n",
    "tr_control_2_repl = (transactions_control_2.drop_duplicates().query('uid in @test_dup_uid')\n",
    "                     .groupby('uid', as_index=False).agg({'revenue':'sum'})\n",
    "                     .rename(columns={'revenue':'sum_rev'}))\n",
    "\n",
    "# Меняю значения (создаю дополнительный столбец, не перезаписываю все в total_revenue)\n",
    "users_test = users_test.merge(tr_test_repl, on='uid', how='left')\n",
    "users_test['total_revenue_corrected'] = [users_test.total_revenue[x] if math.isnan(users_test.sum_rev[x]) else users_test.sum_rev[x] for x in range(users_test.shape[0])]\n",
    "users_test = users_test.drop('sum_rev', axis=1)\n",
    "\n",
    "users_control_1 = users_control_1.merge(tr_control_1_repl, on='uid', how='left')\n",
    "users_control_1['total_revenue_corrected'] = [users_control_1.total_revenue[x] if math.isnan(users_control_1.sum_rev[x]) else users_control_1.sum_rev[x] for x in range(users_control_1.shape[0])]\n",
    "users_control_1 = users_control_1.drop('sum_rev', axis=1)\n",
    "\n",
    "users_control_2 = users_control_2.merge(tr_control_2_repl, on='uid', how='left')\n",
    "users_control_2['total_revenue_corrected'] = [users_control_2.total_revenue[x] if math.isnan(users_control_2.sum_rev[x]) else users_control_2.sum_rev[x] for x in range(users_control_2.shape[0])]\n",
    "users_control_2 = users_control_2.drop('sum_rev', axis=1)\n",
    "\n",
    "# И удаляю уже ненужные вспомогательные датафреймы и списки\n",
    "del tr_test_repl, tr_control_1_repl, tr_control_2_repl\n",
    "del test_dup_uid, control_1_dup_uid, control_2_dup_uid"
   ]
  },
  {
   "cell_type": "markdown",
   "metadata": {},
   "source": [
    "# Часть 2. Обработка данных в соотвествии с общими требованиями А/А/В-тестирования\n",
    "\n",
    "### 2.1. Общие требования\n",
    "Поскольку чистота эксперимента зависит от отсутсвия какого-либо стороннего влияния, кроме влияния исследуемого изменения, необходимо, чтобы данные в группах согласовались по следующим критериям:\n",
    "- данные собраны за один и тот же период;\n",
    "- география исследования совпадает;\n",
    "- распределение групп по основным характеристикам (кроме исследуемых) тоже должно совпадать (*например, соотношение по полу, распределение по возрасту и т.д.*)\n",
    "- и, наконец, отбор людей по группам должен происходить случайно (этот пункт в основную часть не войдет)."
   ]
  },
  {
   "cell_type": "code",
   "execution_count": 27,
   "metadata": {},
   "outputs": [],
   "source": [
    "# Добавляю маркировку к каждой группе\n",
    "\n",
    "transactions_test['group']      = 'test'\n",
    "transactions_control_1['group'] = 'control_1'\n",
    "transactions_control_2['group'] = 'control_2'\n",
    "\n",
    "# И для удобства объединяю все в один датафрейм\n",
    "transactions = pd.concat([transactions_test, transactions_control_1, transactions_control_2], ignore_index=True)"
   ]
  },
  {
   "cell_type": "markdown",
   "metadata": {},
   "source": [
    "**Хронологический критерий.** На scatterplot(-е) ниже видно, что большинство пользователей попали в 2017 г., видимо тогда и проводился эксперимент. Однако один пользователь из 2015-го по ошибке попал в контрольную группу 1 (*нижний левый угол, оранжевая точка*)."
   ]
  },
  {
   "cell_type": "code",
   "execution_count": 28,
   "metadata": {},
   "outputs": [
    {
     "data": {
      "image/png": "[encoded data removed]",
      "text/plain": [
       "<Figure size 1200x600 with 1 Axes>"
      ]
     },
     "metadata": {},
     "output_type": "display_data"
    }
   ],
   "source": [
    "plt.figure(figsize=(12, 6))\n",
    "plt.title(f'''График распределения датам регистрации и  аутентификации \n",
    "          в приложении для всех уникальных пользователей''', fontsize=10)\n",
    "sns.scatterplot(data=transactions, x='paid_at', y='joined_at', hue='group', alpha=.4);"
   ]
  },
  {
   "cell_type": "code",
   "execution_count": 29,
   "metadata": {},
   "outputs": [
    {
     "data": {
      "text/html": [
       "<div>\n",
       "<style scoped>\n",
       "    .dataframe tbody tr th:only-of-type {\n",
       "        vertical-align: middle;\n",
       "    }\n",
       "\n",
       "    .dataframe tbody tr th {\n",
       "        vertical-align: top;\n",
       "    }\n",
       "\n",
       "    .dataframe thead th {\n",
       "        text-align: right;\n",
       "    }\n",
       "</style>\n",
       "<table border=\"1\" class=\"dataframe\">\n",
       "  <thead>\n",
       "    <tr style=\"text-align: right;\">\n",
       "      <th></th>\n",
       "      <th>uid</th>\n",
       "      <th>country</th>\n",
       "      <th>joined_at</th>\n",
       "      <th>paid_at</th>\n",
       "      <th>revenue</th>\n",
       "      <th>payment_id</th>\n",
       "      <th>from_page</th>\n",
       "      <th>product_type</th>\n",
       "      <th>group</th>\n",
       "    </tr>\n",
       "  </thead>\n",
       "  <tbody>\n",
       "    <tr>\n",
       "      <th>330</th>\n",
       "      <td>960936960.0</td>\n",
       "      <td>Russian Federation</td>\n",
       "      <td>2015-01-19 11:49:00</td>\n",
       "      <td>2016-12-14 17:30:00</td>\n",
       "      <td>26.0</td>\n",
       "      <td>0.0</td>\n",
       "      <td>refund_VP</td>\n",
       "      <td>other_type</td>\n",
       "      <td>control_1</td>\n",
       "    </tr>\n",
       "    <tr>\n",
       "      <th>364</th>\n",
       "      <td>960936960.0</td>\n",
       "      <td>Russian Federation</td>\n",
       "      <td>2015-01-19 11:49:00</td>\n",
       "      <td>2016-12-14 17:35:00</td>\n",
       "      <td>637.0</td>\n",
       "      <td>0.0</td>\n",
       "      <td>refung_AP</td>\n",
       "      <td>other_type</td>\n",
       "      <td>control_1</td>\n",
       "    </tr>\n",
       "    <tr>\n",
       "      <th>481</th>\n",
       "      <td>960936960.0</td>\n",
       "      <td>Russian Federation</td>\n",
       "      <td>2015-01-19 11:49:00</td>\n",
       "      <td>2016-12-14 16:16:00</td>\n",
       "      <td>143.0</td>\n",
       "      <td>0.0</td>\n",
       "      <td>refund_WP</td>\n",
       "      <td>other_type</td>\n",
       "      <td>control_1</td>\n",
       "    </tr>\n",
       "  </tbody>\n",
       "</table>\n",
       "</div>"
      ],
      "text/plain": [
       "             uid             country           joined_at             paid_at   \n",
       "330  960936960.0  Russian Federation 2015-01-19 11:49:00 2016-12-14 17:30:00  \\\n",
       "364  960936960.0  Russian Federation 2015-01-19 11:49:00 2016-12-14 17:35:00   \n",
       "481  960936960.0  Russian Federation 2015-01-19 11:49:00 2016-12-14 16:16:00   \n",
       "\n",
       "     revenue  payment_id  from_page product_type      group  \n",
       "330     26.0         0.0  refund_VP   other_type  control_1  \n",
       "364    637.0         0.0  refung_AP   other_type  control_1  \n",
       "481    143.0         0.0  refund_WP   other_type  control_1  "
      ]
     },
     "execution_count": 29,
     "metadata": {},
     "output_type": "execute_result"
    },
    {
     "data": {
      "text/html": [
       "<div>\n",
       "<style scoped>\n",
       "    .dataframe tbody tr th:only-of-type {\n",
       "        vertical-align: middle;\n",
       "    }\n",
       "\n",
       "    .dataframe tbody tr th {\n",
       "        vertical-align: top;\n",
       "    }\n",
       "\n",
       "    .dataframe thead th {\n",
       "        text-align: right;\n",
       "    }\n",
       "</style>\n",
       "<table border=\"1\" class=\"dataframe\">\n",
       "  <thead>\n",
       "    <tr style=\"text-align: right;\">\n",
       "      <th></th>\n",
       "      <th>uid</th>\n",
       "      <th>country</th>\n",
       "      <th>joined_at</th>\n",
       "      <th>paid_at</th>\n",
       "      <th>revenue</th>\n",
       "      <th>payment_id</th>\n",
       "      <th>from_page</th>\n",
       "      <th>product_type</th>\n",
       "      <th>group</th>\n",
       "    </tr>\n",
       "  </thead>\n",
       "  <tbody>\n",
       "    <tr>\n",
       "      <th>330</th>\n",
       "      <td>True</td>\n",
       "      <td>True</td>\n",
       "      <td>True</td>\n",
       "      <td>True</td>\n",
       "      <td>True</td>\n",
       "      <td>True</td>\n",
       "      <td>True</td>\n",
       "      <td>True</td>\n",
       "      <td>True</td>\n",
       "    </tr>\n",
       "    <tr>\n",
       "      <th>364</th>\n",
       "      <td>True</td>\n",
       "      <td>True</td>\n",
       "      <td>True</td>\n",
       "      <td>True</td>\n",
       "      <td>True</td>\n",
       "      <td>True</td>\n",
       "      <td>True</td>\n",
       "      <td>True</td>\n",
       "      <td>True</td>\n",
       "    </tr>\n",
       "    <tr>\n",
       "      <th>481</th>\n",
       "      <td>True</td>\n",
       "      <td>True</td>\n",
       "      <td>True</td>\n",
       "      <td>True</td>\n",
       "      <td>True</td>\n",
       "      <td>True</td>\n",
       "      <td>True</td>\n",
       "      <td>True</td>\n",
       "      <td>True</td>\n",
       "    </tr>\n",
       "  </tbody>\n",
       "</table>\n",
       "</div>"
      ],
      "text/plain": [
       "      uid  country  joined_at  paid_at  revenue  payment_id  from_page   \n",
       "330  True     True       True     True     True        True       True  \\\n",
       "364  True     True       True     True     True        True       True   \n",
       "481  True     True       True     True     True        True       True   \n",
       "\n",
       "     product_type  group  \n",
       "330          True   True  \n",
       "364          True   True  \n",
       "481          True   True  "
      ]
     },
     "execution_count": 29,
     "metadata": {},
     "output_type": "execute_result"
    }
   ],
   "source": [
    "# Действительно, вот этот юзер:\n",
    "transactions[transactions.paid_at.dt.year < 2017] \n",
    "\n",
    "# Далее хочу проверить, был ли он единственным человеком из 2015 года (второй output)\n",
    "transactions[transactions.joined_at.dt.year == 2015] == transactions[transactions.paid_at.dt.year < 2017]\n",
    "# Да, это так\n",
    "\n",
    "# Что ж, удалю этого юзера, т.к. он не вписывается во временные рамки эксперимента\n",
    "uid_to_del = transactions[transactions.joined_at.dt.year == 2015].uid.head(1).values[0]\n",
    "\n",
    "# Перезаписываю датафреймы, исключив этого юзера\n",
    "transactions = transactions[transactions.uid != uid_to_del]\n",
    "users_control_1 = users_control_1[users_control_1.uid != uid_to_del]"
   ]
  },
  {
   "cell_type": "markdown",
   "metadata": {},
   "source": [
    "Проверяя даты регистрации и заходов в приложение, я случайно обнаружила, что есть такие пользователи, у которых `paid_at` идет по времени позже, чем `joined_at`. Таких пользователей было довольно много, и, честно говоря, мне не хотелось их сразу удалять. Далее через код покажу, почему я решила их оставить. "
   ]
  },
  {
   "cell_type": "code",
   "execution_count": 30,
   "metadata": {},
   "outputs": [
    {
     "name": "stdout",
     "output_type": "stream",
     "text": [
      "Если исключить из датасета пользователей с неправильным paid_at, то придется отбросить 17.19745222929936% данных\n",
      "А вот столько придется выбросить по группам в абсолютном отношении:\n"
     ]
    },
    {
     "data": {
      "text/html": [
       "<div>\n",
       "<style scoped>\n",
       "    .dataframe tbody tr th:only-of-type {\n",
       "        vertical-align: middle;\n",
       "    }\n",
       "\n",
       "    .dataframe tbody tr th {\n",
       "        vertical-align: top;\n",
       "    }\n",
       "\n",
       "    .dataframe thead th {\n",
       "        text-align: right;\n",
       "    }\n",
       "</style>\n",
       "<table border=\"1\" class=\"dataframe\">\n",
       "  <thead>\n",
       "    <tr style=\"text-align: right;\">\n",
       "      <th></th>\n",
       "      <th>group</th>\n",
       "      <th>uid</th>\n",
       "    </tr>\n",
       "  </thead>\n",
       "  <tbody>\n",
       "    <tr>\n",
       "      <th>0</th>\n",
       "      <td>control_1</td>\n",
       "      <td>37</td>\n",
       "    </tr>\n",
       "    <tr>\n",
       "      <th>1</th>\n",
       "      <td>control_2</td>\n",
       "      <td>41</td>\n",
       "    </tr>\n",
       "    <tr>\n",
       "      <th>2</th>\n",
       "      <td>test</td>\n",
       "      <td>35</td>\n",
       "    </tr>\n",
       "  </tbody>\n",
       "</table>\n",
       "</div>"
      ],
      "text/plain": [
       "       group  uid\n",
       "0  control_1   37\n",
       "1  control_2   41\n",
       "2       test   35"
      ]
     },
     "execution_count": 30,
     "metadata": {},
     "output_type": "execute_result"
    }
   ],
   "source": [
    "print(f'''Если исключить из датасета пользователей с неправильным paid_at, то придется отбросить {(1 - (sum(transactions.joined_at <= transactions.paid_at) / transactions.shape[0]))*100}% данных''')\n",
    "\n",
    "print(f'''А вот столько придется выбросить по группам в абсолютном отношении:''')\n",
    "transactions[transactions.joined_at > transactions.paid_at].groupby('group', as_index=False).uid.nunique()"
   ]
  },
  {
   "cell_type": "code",
   "execution_count": 31,
   "metadata": {},
   "outputs": [
    {
     "data": {
      "text/plain": [
       "11   2017-10-11 19:00:00\n",
       "20   2017-03-11 10:57:00\n",
       "24   2017-03-11 20:20:00\n",
       "25   2017-08-11 01:56:00\n",
       "36   2017-09-11 15:44:00\n",
       "37   2017-04-11 00:59:00\n",
       "38   2017-08-11 22:45:00\n",
       "47   2017-06-11 17:31:00\n",
       "55   2017-06-11 11:51:00\n",
       "57   2017-04-11 11:09:00\n",
       "Name: paid_at, dtype: datetime64[ns]"
      ]
     },
     "execution_count": 31,
     "metadata": {},
     "output_type": "execute_result"
    }
   ],
   "source": [
    "# Смотрю, что это за данные\n",
    "transactions[transactions.joined_at > transactions.paid_at].paid_at.head(10)"
   ]
  },
  {
   "cell_type": "code",
   "execution_count": 32,
   "metadata": {},
   "outputs": [
    {
     "data": {
      "text/plain": [
       "162"
      ]
     },
     "execution_count": 32,
     "metadata": {},
     "output_type": "execute_result"
    }
   ],
   "source": [
    "# Таких строк всего:\n",
    "sum(transactions.joined_at > transactions.paid_at)"
   ]
  },
  {
   "cell_type": "markdown",
   "metadata": {},
   "source": [
    "Уже сейчас кажется странным, что часто встречается один и тот же день - 11-е число. Самое простое объяснение: в данных изначально ошибка (наверное, даты записывались в `datetime`, потом конвертировались в строки и для какой-то части `%m` и `%d` перепутались местами в `.strftime`). То есть, месяц - это число, а число - месяц."
   ]
  },
  {
   "cell_type": "code",
   "execution_count": 33,
   "metadata": {},
   "outputs": [
    {
     "data": {
      "text/plain": [
       "0"
      ]
     },
     "execution_count": 33,
     "metadata": {},
     "output_type": "execute_result"
    }
   ],
   "source": [
    "# Действительно, нет никаких других дней, кроме 11-го:\n",
    "(transactions[transactions.joined_at > transactions.paid_at].paid_at.dt.day != 11).sum()"
   ]
  },
  {
   "cell_type": "markdown",
   "metadata": {},
   "source": [
    "Не вижу других вариантов, кроме как исправить эти строки."
   ]
  },
  {
   "cell_type": "code",
   "execution_count": 34,
   "metadata": {},
   "outputs": [],
   "source": [
    "new_dt_lst = [] # список для новых дат\n",
    "\n",
    "# Перевожу даты в строку, поменяв месяц с днем\n",
    "for x in range(transactions.shape[0]):\n",
    "    if (transactions.joined_at.iloc[x] > transactions.paid_at.iloc[x]):\n",
    "        new_dt_lst.append(transactions.paid_at.iloc[x].strftime('%Y-%d-%m %H:%M:%S'))\n",
    "    else: \n",
    "        new_dt_lst.append(transactions.paid_at.iloc[x].strftime('%Y-%m-%d %H:%M:%S'))\n",
    "\n",
    "# Добавляю новый столбец для исправленных дат (paid_at не хочу трогать)      \n",
    "transactions['paid_at_corrected'] = new_dt_lst\n",
    "transactions['paid_at_corrected'] = pd.to_datetime(transactions.paid_at_corrected, format='%Y-%m-%d %H:%M:%S')"
   ]
  },
  {
   "cell_type": "code",
   "execution_count": 35,
   "metadata": {},
   "outputs": [
    {
     "data": {
      "text/plain": [
       "0"
      ]
     },
     "execution_count": 35,
     "metadata": {},
     "output_type": "execute_result"
    }
   ],
   "source": [
    "# Проверю, остались ли проблемные записи\n",
    "\n",
    "sum(transactions.joined_at > transactions.paid_at_corrected)\n",
    "# Нет, таких не осталось"
   ]
  },
  {
   "cell_type": "markdown",
   "metadata": {},
   "source": [
    "**Географический критерий.** Регионы исследования должны совпадать."
   ]
  },
  {
   "cell_type": "code",
   "execution_count": 36,
   "metadata": {},
   "outputs": [
    {
     "data": {
      "text/html": [
       "<div>\n",
       "<style scoped>\n",
       "    .dataframe tbody tr th:only-of-type {\n",
       "        vertical-align: middle;\n",
       "    }\n",
       "\n",
       "    .dataframe tbody tr th {\n",
       "        vertical-align: top;\n",
       "    }\n",
       "\n",
       "    .dataframe thead th {\n",
       "        text-align: right;\n",
       "    }\n",
       "</style>\n",
       "<table border=\"1\" class=\"dataframe\">\n",
       "  <thead>\n",
       "    <tr style=\"text-align: right;\">\n",
       "      <th></th>\n",
       "      <th>group</th>\n",
       "      <th>country</th>\n",
       "    </tr>\n",
       "  </thead>\n",
       "  <tbody>\n",
       "    <tr>\n",
       "      <th>0</th>\n",
       "      <td>control_1</td>\n",
       "      <td>17</td>\n",
       "    </tr>\n",
       "    <tr>\n",
       "      <th>1</th>\n",
       "      <td>control_2</td>\n",
       "      <td>19</td>\n",
       "    </tr>\n",
       "    <tr>\n",
       "      <th>2</th>\n",
       "      <td>test</td>\n",
       "      <td>17</td>\n",
       "    </tr>\n",
       "  </tbody>\n",
       "</table>\n",
       "</div>"
      ],
      "text/plain": [
       "       group  country\n",
       "0  control_1       17\n",
       "1  control_2       19\n",
       "2       test       17"
      ]
     },
     "execution_count": 36,
     "metadata": {},
     "output_type": "execute_result"
    }
   ],
   "source": [
    "# Уникальные страны по группам\n",
    "\n",
    "transactions.groupby('group', as_index=False).country.nunique()"
   ]
  },
  {
   "cell_type": "markdown",
   "metadata": {},
   "source": [
    "Количество стран по группам не совпадает и еще неизвестно, совпадают ли сами страны между собой. К сожалению, придется выкинуть часть данных и оставить только те страны, которые есть во всех датафреймах. \n",
    "\n",
    "Ориентироваться буду уже сразу на датафреймы с `transactions`, а не `users`. Неизвестно, влияет ли географическое положение на намерение пользователя купить премиум, поэтому, если в дальнейшем весь анализ будет базироваться на `transactions`, то логично отфильтровать людей именно по ним. "
   ]
  },
  {
   "cell_type": "code",
   "execution_count": 37,
   "metadata": {},
   "outputs": [],
   "source": [
    "# Напишу лучше функцию для поиска совпадающих стран, она может еще понадобиться\n",
    "\n",
    "def find_common_countries(test, control_1, control_2):\n",
    "    \n",
    "    # Создаю списки со странами на основе датафреймов\n",
    "\n",
    "    countries_test      = test.country.unique().tolist()\n",
    "    countries_control_1 = control_1.country.unique().tolist()\n",
    "    countries_control_2 = control_2.country.unique().tolist()\n",
    "    \n",
    "    # Ищу общие страны   \n",
    "    \n",
    "    countries_t_c1 = [] # между тестовой и контрольной_1\n",
    "    for x in countries_test:\n",
    "        if x in countries_control_1:\n",
    "            countries_t_c1.append(x)\n",
    "\n",
    "    common_countries_lst = [] # ищу совпадения с контрольной_2\n",
    "    for x in countries_t_c1:\n",
    "        if x in countries_control_2:\n",
    "            common_countries_lst.append(x)\n",
    "            \n",
    "    return(common_countries_lst)"
   ]
  },
  {
   "cell_type": "code",
   "execution_count": 38,
   "metadata": {},
   "outputs": [
    {
     "name": "stdout",
     "output_type": "stream",
     "text": [
      "\n",
      "Всего общих стран: 15\n",
      "Придется удалить: 3.0785562632696384% строк\n",
      "\n"
     ]
    }
   ],
   "source": [
    "# Применяю функцию\n",
    "\n",
    "countries_lst = find_common_countries(test = transactions.query('group==\"test\"'),\n",
    "                      control_1 = transactions.query('group==\"control_1\"'),\n",
    "                      control_2 = transactions.query('group==\"control_2\"'))\n",
    "print(f'''\n",
    "Всего общих стран: {len(countries_lst)}\n",
    "Придется удалить: {(1 - (transactions.country.isin(countries_lst).sum() / transactions.shape[0])) * 100}% строк\n",
    "''')\n",
    "\n",
    "transactions = transactions[transactions.country.isin(countries_lst)] # и перезаписываю transactions, здесь страны пересекаются"
   ]
  },
  {
   "cell_type": "markdown",
   "metadata": {},
   "source": [
    "**Соотношение распределений по основным характеристикам.** Здесь главная задача посмотреть, чтобы распределения по независимым характеристикам (*в данном случае, это возраст, пол, лайки и прочее*) пользователей были более-менее одинаковы."
   ]
  },
  {
   "cell_type": "code",
   "execution_count": 39,
   "metadata": {},
   "outputs": [],
   "source": [
    "# Объединяю пользователей в один датафрейм и мерджу его с transactions,\n",
    "# я заранее проверила, что страны по uid у двух датафреймов идентичны, поэтому у юзеров просто дропнула этот столбец\n",
    "\n",
    "# Все это нужно для того, чтобы добавить характеристики из users\n",
    "\n",
    "transactions = transactions.merge(pd.concat([users_test, users_control_1, users_control_2], \n",
    "                                            ignore_index=True).drop('country', axis=1), on='uid', how='left')"
   ]
  },
  {
   "cell_type": "markdown",
   "metadata": {},
   "source": [
    "*Возраст.* По этому принзаку группы распределены более-менее равномерно. Внимание сразу привлекают выбросы в `test` и `control_1`: очевидно, что, поставив возраст 99+, пользователь просто хотел скрыть свой возраст. На покупку премиума выбросы никак не влияют, однако среднее значение из-за них подтягивается вверх. В целом, если это общая тенденция, то разницы в дисперсиях мы не увидим. \n",
    "\n",
    "Есть два решения этой проблемы: заменить слишком высокие значения на NaN или оставить все как есть. Поскольку нет задачи исследовать возраст, думаю, можно оставить все как есть.\n",
    "\n",
    "На графике плотности распределения (kde-plot) пользователи распределяются похожим образом, за исключением вышеупомянутых выбросов. "
   ]
  },
  {
   "cell_type": "code",
   "execution_count": 43,
   "metadata": {},
   "outputs": [
    {
     "data": {
      "image/png": "[encoded data removed]",
      "text/plain": [
       "<Figure size 800x400 with 1 Axes>"
      ]
     },
     "metadata": {},
     "output_type": "display_data"
    },
    {
     "data": {
      "image/png": "[encoded data removed]",
      "text/plain": [
       "<Figure size 1000x400 with 1 Axes>"
      ]
     },
     "metadata": {},
     "output_type": "display_data"
    }
   ],
   "source": [
    "plt.figure(figsize=(8, 4))\n",
    "plt.title('График распределения по возрасту', fontsize=10)\n",
    "sns.boxplot(data=transactions, x='group', y='age');\n",
    "\n",
    "plt.figure(figsize=(10, 4))\n",
    "plt.title('График плотности распределения по возрасту (kde-plot)', fontsize=11)\n",
    "sns.kdeplot(data=transactions, x='age', hue='group');"
   ]
  },
  {
   "cell_type": "code",
   "execution_count": 44,
   "metadata": {},
   "outputs": [
    {
     "data": {
      "text/html": [
       "<div>\n",
       "<style scoped>\n",
       "    .dataframe tbody tr th:only-of-type {\n",
       "        vertical-align: middle;\n",
       "    }\n",
       "\n",
       "    .dataframe tbody tr th {\n",
       "        vertical-align: top;\n",
       "    }\n",
       "\n",
       "    .dataframe thead th {\n",
       "        text-align: right;\n",
       "    }\n",
       "</style>\n",
       "<table border=\"1\" class=\"dataframe\">\n",
       "  <thead>\n",
       "    <tr style=\"text-align: right;\">\n",
       "      <th></th>\n",
       "      <th>W</th>\n",
       "      <th>pval</th>\n",
       "      <th>equal_var</th>\n",
       "    </tr>\n",
       "  </thead>\n",
       "  <tbody>\n",
       "    <tr>\n",
       "      <th>levene</th>\n",
       "      <td>2.821653</td>\n",
       "      <td>0.060028</td>\n",
       "      <td>True</td>\n",
       "    </tr>\n",
       "  </tbody>\n",
       "</table>\n",
       "</div>"
      ],
      "text/plain": [
       "               W      pval  equal_var\n",
       "levene  2.821653  0.060028       True"
      ]
     },
     "execution_count": 44,
     "metadata": {},
     "output_type": "execute_result"
    }
   ],
   "source": [
    "# Конечно, распределение на гистограмме кажется равномерным, но на всякий случай проверю тестом Левена\n",
    "pg.homoscedasticity(transactions, dv='age', group='group', method='levene', alpha=0.05)\n",
    "# Всё ок, дисперсии групп по возрасту равны"
   ]
  },
  {
   "cell_type": "markdown",
   "metadata": {},
   "source": [
    "*Лайки, просмотры.* Другие неисследуемые количественные признаки тоже не должны отличаться, что проверено ячейкой ниже."
   ]
  },
  {
   "cell_type": "code",
   "execution_count": 45,
   "metadata": {},
   "outputs": [
    {
     "name": "stdout",
     "output_type": "stream",
     "text": [
      "Проверю еще на однородность дисперсий следующие показатели:\n",
      "attraction_coeff: True\n",
      "views_count:      True\n"
     ]
    }
   ],
   "source": [
    "print(f'''Проверю еще на однородность дисперсий следующие показатели:\n",
    "attraction_coeff: {pg.homoscedasticity(transactions, dv='attraction_coeff', group='group', method='levene', alpha=0.05)['equal_var'].values[0]}\n",
    "views_count:      {pg.homoscedasticity(transactions, dv='views_count', group='group', method='levene', alpha=0.05)['equal_var'].values[0]}''')"
   ]
  },
  {
   "cell_type": "markdown",
   "metadata": {},
   "source": [
    "*Пол.* По половому признаку выборки распределены очень неравномерно. Не могу точно сказать, есть ли значимые различия между группами (у `gender-0` слишком мало наблюдений, чтобы использовать Хи-квадрат даже с поправкой Йейтса). В силу того, что у всех групп большая часть наблюдений представлена для `gender-1`, рискну предположить, что в отношении пола распределения по группам похожи. Для большей наглядности я сделала барплот по этим данным."
   ]
  },
  {
   "cell_type": "code",
   "execution_count": 46,
   "metadata": {},
   "outputs": [
    {
     "data": {
      "text/html": [
       "<div>\n",
       "<style scoped>\n",
       "    .dataframe tbody tr th:only-of-type {\n",
       "        vertical-align: middle;\n",
       "    }\n",
       "\n",
       "    .dataframe tbody tr th {\n",
       "        vertical-align: top;\n",
       "    }\n",
       "\n",
       "    .dataframe thead th {\n",
       "        text-align: right;\n",
       "    }\n",
       "</style>\n",
       "<table border=\"1\" class=\"dataframe\">\n",
       "  <thead>\n",
       "    <tr style=\"text-align: right;\">\n",
       "      <th>gender</th>\n",
       "      <th>0</th>\n",
       "      <th>1</th>\n",
       "    </tr>\n",
       "    <tr>\n",
       "      <th>group</th>\n",
       "      <th></th>\n",
       "      <th></th>\n",
       "    </tr>\n",
       "  </thead>\n",
       "  <tbody>\n",
       "    <tr>\n",
       "      <th>control_1</th>\n",
       "      <td>4</td>\n",
       "      <td>184</td>\n",
       "    </tr>\n",
       "    <tr>\n",
       "      <th>control_2</th>\n",
       "      <td>7</td>\n",
       "      <td>171</td>\n",
       "    </tr>\n",
       "    <tr>\n",
       "      <th>test</th>\n",
       "      <td>2</td>\n",
       "      <td>142</td>\n",
       "    </tr>\n",
       "  </tbody>\n",
       "</table>\n",
       "</div>"
      ],
      "text/plain": [
       "gender     0    1\n",
       "group            \n",
       "control_1  4  184\n",
       "control_2  7  171\n",
       "test       2  142"
      ]
     },
     "execution_count": 46,
     "metadata": {},
     "output_type": "execute_result"
    }
   ],
   "source": [
    "# Соотношение по полу в таблице сопряженности\n",
    "crosstab_gender = transactions.groupby(['group', 'gender'], as_index=False).agg({'uid':'nunique'}).pivot(columns='gender', index='group').droplevel(0, axis=1)\n",
    "crosstab_gender"
   ]
  },
  {
   "cell_type": "code",
   "execution_count": 47,
   "metadata": {},
   "outputs": [
    {
     "data": {
      "image/png": "[encoded data removed]",
      "text/plain": [
       "<Figure size 1000x300 with 1 Axes>"
      ]
     },
     "metadata": {},
     "output_type": "display_data"
    }
   ],
   "source": [
    "plt.figure(figsize=(10, 3))\n",
    "plt.title('Распределения между группами по половому признаку', fontsize=10)\n",
    "sns.barplot(data=transactions.groupby(['group', 'gender'], as_index=False).agg({'uid':'nunique'}), \n",
    "            x='group', hue='gender', y='uid');"
   ]
  },
  {
   "cell_type": "markdown",
   "metadata": {},
   "source": [
    "### 2.2. Дополнительные требования из задания\n",
    "Теперь стоит рассмотреть дополнительные требования, поставленные в задании. Еще раз приведу текст:\n",
    "\n",
    ">Помимо базовых функций, в приложении также имеется премиум-подписка, которая дает доступ к ряду важных дополнительных возможностей. Был проведен A/B тест, в рамках которого **для новых пользователей** из **нескольких стран** была изменена стоимость премиум-подписки* **при покупке через две новые платежные системы**. При этом стоимость пробного периода оставалась прежней.\n",
    "\n",
    "***Я здесь вижу 3 специальных условия:***\n",
    "1. **Это новые пользователи.** Думаю, здесь подразумеваются новые зарегистрированные пользователи.\n",
    "3. **Которые использовали только две платежные системы.** Нужно определить, какие именно.\n",
    "2. **В экперименте участвовали не все страны.** Надо исключить те, что не участвовали.\n",
    "\n",
    "Требование по ***новым пользователям*** было выполнено еще в предыдущем разделе, где я убрала человека из 2015 года. Но мне еще тогда показалось странным скопление точек на в октябре-ноябре 2017 г.  Если это и есть \"новые\" пользователи, то эксперимент шел где-то месяц-два, но не год (что очень даже логично, за год набралось бы намного больше данных)."
   ]
  },
  {
   "cell_type": "code",
   "execution_count": 48,
   "metadata": {},
   "outputs": [
    {
     "data": {
      "image/png": "[encoded data removed]",
      "text/plain": [
       "<Figure size 600x400 with 1 Axes>"
      ]
     },
     "metadata": {},
     "output_type": "display_data"
    }
   ],
   "source": [
    "# Повторю еще раз график, он сразу показался странным из-за скопления точек в октябре\n",
    "\n",
    "plt.figure(figsize=(6, 4))\n",
    "plt.title(f'''График распределения датам регистрации и  аутентификации \n",
    "          в приложении для всех уникальных пользователей''', fontsize=10)\n",
    "sns.scatterplot(data=transactions, x='paid_at_corrected', y='joined_at', hue='group', alpha=.4);"
   ]
  },
  {
   "cell_type": "markdown",
   "metadata": {},
   "source": [
    "Действительно, на октябрь 2017 приходится 72% всех оставшихся записей. Думаю, в этот месяц проводился А/Б-тест."
   ]
  },
  {
   "cell_type": "code",
   "execution_count": 49,
   "metadata": {},
   "outputs": [
    {
     "data": {
      "text/plain": [
       "0.7174151150054765"
      ]
     },
     "execution_count": 49,
     "metadata": {},
     "output_type": "execute_result"
    }
   ],
   "source": [
    "# Сколько записей приходится на октябрь?\n",
    "\n",
    "sum(transactions.joined_at.dt.month == 10) / transactions.shape[0]"
   ]
  },
  {
   "cell_type": "code",
   "execution_count": 50,
   "metadata": {},
   "outputs": [
    {
     "data": {
      "text/plain": [
       "group\n",
       "control_1    116\n",
       "control_2    129\n",
       "test          99\n",
       "Name: uid, dtype: int64"
      ]
     },
     "execution_count": 50,
     "metadata": {},
     "output_type": "execute_result"
    }
   ],
   "source": [
    "# Распределение по группам в октябре:\n",
    "\n",
    "transactions[transactions.joined_at.dt.month == 10].groupby('group').uid.nunique()"
   ]
  },
  {
   "cell_type": "markdown",
   "metadata": {},
   "source": [
    "Но можно ли абсолютно точно сказать, что данные собирались в октябре? О деталях эксперимента неизвестно ничего, кроме того, что цена на подписку-премиум изменилась (непонятно даже, в какую сторону). Думаю, надо отследить как менялась средняя стоимость подписки-премиум в контрольных и тестовой группах на протяжении года по месяцам. И если средняя цена изменится в тестовой группе в октябре (по отношению к контрольным группам), то мое предположение о времени эксперимента и о том, кого считать \"новыми пользователями\", подтвердится.\n",
    "\n",
    "Что ж ... рискну это проверить, еще не отсеив платежные системы."
   ]
  },
  {
   "cell_type": "code",
   "execution_count": 51,
   "metadata": {},
   "outputs": [],
   "source": [
    "# Считаю среднюю цену по группам, учитывая только подписку premium_no_trial\n",
    "\n",
    "t = ( transactions.query('product_type==\"premium_no_trial\" & group==\"test\"')\n",
    "    .resample(rule='M', on='paid_at_corrected').agg({'revenue':'sum', 'uid':'nunique'}) )\n",
    "t['test'] = t.revenue / t.uid\n",
    "t = t.drop(['revenue', 'uid'], axis=1)\n",
    "\n",
    "c1 = ( transactions.query('product_type==\"premium_no_trial\" & group==\"control_1\"')\n",
    "    .resample(rule='M', on='paid_at_corrected').agg({'revenue':'sum', 'uid':'nunique'}) )\n",
    "c1['control_1'] = c1.revenue / c1.uid\n",
    "c1 = c1.drop(['revenue', 'uid'], axis=1)\n",
    "\n",
    "c2 = ( transactions.query('product_type==\"premium_no_trial\" & group==\"control_2\"')\n",
    "    .resample(rule='M', on='paid_at_corrected').agg({'revenue':'sum', 'uid':'nunique'} )\n",
    "   )\n",
    "c2['control_2'] = c2.revenue / c2.uid\n",
    "c2 = c2.drop(['revenue', 'uid'], axis=1)\n",
    "\n",
    "\n",
    "new_data = pd.concat([t,c1,c2], axis=1).reset_index() # собираю все в один датафрейм"
   ]
  },
  {
   "cell_type": "code",
   "execution_count": 52,
   "metadata": {},
   "outputs": [
    {
     "data": {
      "image/png": "[encoded data removed]",
      "text/plain": [
       "<Figure size 1200x500 with 1 Axes>"
      ]
     },
     "metadata": {},
     "output_type": "display_data"
    }
   ],
   "source": [
    "# Отрисовка графика:\n",
    "\n",
    "plt.figure(figsize=(12,5))\n",
    "sns.lineplot(x='paid_at_corrected', y='value', hue='variable', data=pd.melt(new_data, ['paid_at_corrected']));"
   ]
  },
  {
   "cell_type": "markdown",
   "metadata": {},
   "source": [
    "На графике виден пик у тестовой группы именно в октябре. Мое предположение подтвердилось: А/А/В тест проводился в октябре 2017. Еще из графика можно вынести, что цену подписки у тестовой группы повысили, и, следовательно, новые пользователи - это те, кто зарегистрировался в октябре.\n",
    "\n",
    "Теперь перейду к ***платежным системам.*** Сначала выведу все возможные системы по подписке premium_no_trial для тех, кто присоединился в октябре."
   ]
  },
  {
   "cell_type": "code",
   "execution_count": 53,
   "metadata": {},
   "outputs": [
    {
     "data": {
      "text/html": [
       "<div>\n",
       "<style scoped>\n",
       "    .dataframe tbody tr th:only-of-type {\n",
       "        vertical-align: middle;\n",
       "    }\n",
       "\n",
       "    .dataframe tbody tr th {\n",
       "        vertical-align: top;\n",
       "    }\n",
       "\n",
       "    .dataframe thead th {\n",
       "        text-align: right;\n",
       "    }\n",
       "</style>\n",
       "<table border=\"1\" class=\"dataframe\">\n",
       "  <thead>\n",
       "    <tr style=\"text-align: right;\">\n",
       "      <th></th>\n",
       "      <th></th>\n",
       "      <th>uid</th>\n",
       "      <th>paid_at</th>\n",
       "    </tr>\n",
       "    <tr>\n",
       "      <th>group</th>\n",
       "      <th>payment_id</th>\n",
       "      <th></th>\n",
       "      <th></th>\n",
       "    </tr>\n",
       "  </thead>\n",
       "  <tbody>\n",
       "    <tr>\n",
       "      <th rowspan=\"3\" valign=\"top\">control_1</th>\n",
       "      <th>0.0</th>\n",
       "      <td>1</td>\n",
       "      <td>1</td>\n",
       "    </tr>\n",
       "    <tr>\n",
       "      <th>68.0</th>\n",
       "      <td>10</td>\n",
       "      <td>11</td>\n",
       "    </tr>\n",
       "    <tr>\n",
       "      <th>147.0</th>\n",
       "      <td>50</td>\n",
       "      <td>52</td>\n",
       "    </tr>\n",
       "    <tr>\n",
       "      <th rowspan=\"2\" valign=\"top\">control_2</th>\n",
       "      <th>68.0</th>\n",
       "      <td>4</td>\n",
       "      <td>4</td>\n",
       "    </tr>\n",
       "    <tr>\n",
       "      <th>147.0</th>\n",
       "      <td>61</td>\n",
       "      <td>65</td>\n",
       "    </tr>\n",
       "    <tr>\n",
       "      <th rowspan=\"3\" valign=\"top\">test</th>\n",
       "      <th>0.0</th>\n",
       "      <td>1</td>\n",
       "      <td>1</td>\n",
       "    </tr>\n",
       "    <tr>\n",
       "      <th>68.0</th>\n",
       "      <td>5</td>\n",
       "      <td>9</td>\n",
       "    </tr>\n",
       "    <tr>\n",
       "      <th>147.0</th>\n",
       "      <td>41</td>\n",
       "      <td>45</td>\n",
       "    </tr>\n",
       "  </tbody>\n",
       "</table>\n",
       "</div>"
      ],
      "text/plain": [
       "                      uid  paid_at\n",
       "group     payment_id              \n",
       "control_1 0.0           1        1\n",
       "          68.0         10       11\n",
       "          147.0        50       52\n",
       "control_2 68.0          4        4\n",
       "          147.0        61       65\n",
       "test      0.0           1        1\n",
       "          68.0          5        9\n",
       "          147.0        41       45"
      ]
     },
     "execution_count": 53,
     "metadata": {},
     "output_type": "execute_result"
    }
   ],
   "source": [
    "( transactions[transactions.joined_at.dt.month == 10].query('product_type==\"premium_no_trial\"')\n",
    "    .groupby(['group', 'payment_id'])\n",
    "    .agg({'uid':'nunique', 'paid_at':'count'}) )"
   ]
  },
  {
   "cell_type": "markdown",
   "metadata": {},
   "source": [
    "Нашлось три системы, а не две. Но если посмотреть внимательнее, то можно заметить, что в системе \"0\" платило всего 2 человека за исследуемый период. Плюс, надо учесть, это эти 2 человека есть только в контроле-1 и в тестовой группе. Думаю, система \"0\" попала сюда случайно, и ее можно отбросить.\n",
    "\n",
    "Далее я отберу пользователей только из систем 68 и 147 (которые зарегистрировались в октябре) и создам для них новый датафрейм. "
   ]
  },
  {
   "cell_type": "code",
   "execution_count": 54,
   "metadata": {},
   "outputs": [],
   "source": [
    "# Перезаписываю все в новый датафрейм\n",
    "\n",
    "# На всякий случай 'uid' с отобранными 'payment_id' перезапишу в новый датафрейм, а transactions оставлю нетронутым\n",
    "# Фильтрацию с условием premium_no_trial специально не включаю, т.к. человек мог и не купить премиум \n",
    "# (важно, чтобы у него просто была такая возможность)\n",
    "\n",
    "data = transactions[transactions.joined_at.dt.month == 10].query('payment_id in [68,147]')"
   ]
  },
  {
   "cell_type": "markdown",
   "metadata": {},
   "source": [
    "И последний шаг - отобрать ***подходящие страны.*** Кроме требования совпадения всех стран по всем группам других условий у меня нет. Поэтому далее отберу страны по этому критерию."
   ]
  },
  {
   "cell_type": "code",
   "execution_count": 55,
   "metadata": {},
   "outputs": [
    {
     "name": "stdout",
     "output_type": "stream",
     "text": [
      "\n",
      "Все ли страны совпали?: False\n",
      "Сколько тогда стран выпало?: 2\n",
      "Придется удалить: 2.5723472668810254% строк\n",
      "\n"
     ]
    }
   ],
   "source": [
    "# Собираю совпадающие страны по новым отфильтрованным данным с помощью ранее написанной функции\n",
    "\n",
    "countries_list = find_common_countries(test=data.query('group==\"test\"'), \n",
    "                     control_1=data.query('group==\"control_1\"'), \n",
    "                     control_2=data.query('group==\"control_2\"'))\n",
    "\n",
    "print(f'''\n",
    "Все ли страны совпали?: {data.country.nunique() == len(countries_list)}\n",
    "Сколько тогда стран выпало?: {data.country.nunique() - len(countries_list)}\n",
    "Придется удалить: {(1 - (data.country.isin(countries_list).sum() / data.shape[0])) * 100}% строк\n",
    "''')\n",
    "\n",
    "# Фильтрую data по странам\n",
    "data = data[transactions.country.isin(countries_list)]"
   ]
  },
  {
   "cell_type": "code",
   "execution_count": 56,
   "metadata": {},
   "outputs": [
    {
     "name": "stdout",
     "output_type": "stream",
     "text": [
      "Всего стран: 13\n"
     ]
    },
    {
     "data": {
      "text/plain": [
       "['United States of America',\n",
       " 'Canada',\n",
       " 'United Arab Emirates',\n",
       " 'Argentina',\n",
       " 'Spain',\n",
       " 'United Kingdom (Great Britain)',\n",
       " 'France',\n",
       " 'Italy',\n",
       " 'Belgium',\n",
       " 'Israel',\n",
       " 'Chile',\n",
       " 'Australia',\n",
       " 'Germany']"
      ]
     },
     "execution_count": 56,
     "metadata": {},
     "output_type": "execute_result"
    }
   ],
   "source": [
    "# Уникальные страны записываю в отдельный список, так потом удобнее будет к нему обращаться\n",
    "\n",
    "right_countries_lst = data.country.unique().tolist()\n",
    "print(f'''Всего стран: {len(right_countries_lst)}''')\n",
    "right_countries_lst"
   ]
  },
  {
   "cell_type": "code",
   "execution_count": 57,
   "metadata": {},
   "outputs": [
    {
     "data": {
      "text/html": [
       "<div>\n",
       "<style scoped>\n",
       "    .dataframe tbody tr th:only-of-type {\n",
       "        vertical-align: middle;\n",
       "    }\n",
       "\n",
       "    .dataframe tbody tr th {\n",
       "        vertical-align: top;\n",
       "    }\n",
       "\n",
       "    .dataframe thead tr th {\n",
       "        text-align: left;\n",
       "    }\n",
       "\n",
       "    .dataframe thead tr:last-of-type th {\n",
       "        text-align: right;\n",
       "    }\n",
       "</style>\n",
       "<table border=\"1\" class=\"dataframe\">\n",
       "  <thead>\n",
       "    <tr>\n",
       "      <th></th>\n",
       "      <th colspan=\"2\" halign=\"left\">uid</th>\n",
       "    </tr>\n",
       "    <tr>\n",
       "      <th></th>\n",
       "      <th>nunique</th>\n",
       "      <th>count</th>\n",
       "    </tr>\n",
       "    <tr>\n",
       "      <th>group</th>\n",
       "      <th></th>\n",
       "      <th></th>\n",
       "    </tr>\n",
       "  </thead>\n",
       "  <tbody>\n",
       "    <tr>\n",
       "      <th>control_1</th>\n",
       "      <td>99</td>\n",
       "      <td>103</td>\n",
       "    </tr>\n",
       "    <tr>\n",
       "      <th>control_2</th>\n",
       "      <td>101</td>\n",
       "      <td>105</td>\n",
       "    </tr>\n",
       "    <tr>\n",
       "      <th>test</th>\n",
       "      <td>86</td>\n",
       "      <td>95</td>\n",
       "    </tr>\n",
       "  </tbody>\n",
       "</table>\n",
       "</div>"
      ],
      "text/plain": [
       "              uid      \n",
       "          nunique count\n",
       "group                  \n",
       "control_1      99   103\n",
       "control_2     101   105\n",
       "test           86    95"
      ]
     },
     "execution_count": 57,
     "metadata": {},
     "output_type": "execute_result"
    }
   ],
   "source": [
    "# Уникальные пользователи и их платежи\n",
    "\n",
    "data.groupby('group').agg({'uid':['nunique', 'count']})"
   ]
  },
  {
   "cell_type": "code",
   "execution_count": 58,
   "metadata": {},
   "outputs": [],
   "source": [
    "# Итоговый датафрейм\n",
    "\n",
    "transactions_october = transactions[(transactions.joined_at.dt.month >= 10) &\n",
    "             (transactions.paid_at_corrected.dt.month <= 12)].query('country in @right_countries_lst & payment_id in [68,147]')"
   ]
  },
  {
   "cell_type": "markdown",
   "metadata": {},
   "source": [
    "**Итоговый датафрейм** отфильтрован по следующим условиям:\n",
    "- время действия эксперимента - с октября`*` (и покупки, и регистрация считаются с октября и до конца года); \n",
    "- в нем только страны, участвующие в эксперименте;\n",
    "- данные отфильтрованы по двум платежным системам.\n",
    "\n",
    "`*` *Небольшое пояснение по определению времени эксперимента.* На графике выше было показано, как средняя стоимость подписки `premium_no_trial` резко выросла у тестовой группы. Это дало мне основание считать, что экперимент проводили именно в октябре. Далее в ноябре средняя цена за подписку `premium_no_trial` у тестовой группы падает до уровня контрольных групп, но я все равно ноябрь и декабрь включаю в выборку, почему? \n",
    "\n",
    "Во-первых, в получившемся датафрейме последняя регистрация пользователя была 31 октября, так что, формально, в последующие месяцы будут учтены покупки тех, кто присоединился в октябре. \n",
    "\n",
    "Во-вторых, в задании не указано, сколько времени длился A/B-тест. Маловероятно, что тест длился год: на некоторые месяцы по каждой из групп ну очень мало записей. Столь же маловероятным мне кажется, что тест проводили только один месяц - в октябре. Странно было бы менять стоимость премиума для на новых пользователей на один месяц, а потом откатывать изменение назад и продолжать собирать данные в тестовую группу. \n",
    "\n",
    "Учитывая все вышесказанное, мне показалось разумным определить время эксперимента с октября по декабрь (включительно)."
   ]
  },
  {
   "cell_type": "code",
   "execution_count": 59,
   "metadata": {},
   "outputs": [
    {
     "data": {
      "text/plain": [
       "Timestamp('2017-10-31 23:40:00')"
      ]
     },
     "execution_count": 59,
     "metadata": {},
     "output_type": "execute_result"
    }
   ],
   "source": [
    "# Подтверждение, что максимальная дата регистрации пользователя - 31 октября\n",
    "\n",
    "transactions_october.joined_at.max()"
   ]
  },
  {
   "cell_type": "markdown",
   "metadata": {},
   "source": [
    "# Часть 3. Проверка результатов А/А/B-теста\n",
    "Из имеющихся у меня данных можно проверить на стат.значимость две метрики: **ARPPU** (наиболее подходящий метод: *t-test*) и **конверсию в покупку премиума** (метод: *Хи-квадрат*). Изменение метрики будет считаться стат.значимым, а тест - успешным, если тест не найдет значимых отличий между контрольными группами, но найдет такие различия между контрольной и тестовой группами. За порог значимости приму общепринятую величину, `α = 0.05`.\n",
    "### Конверсия в премиум\n",
    "Для подсчета конверсии я разделю пользователей на тех, кто купил подписку-премиум (тип `premium_no_trial`), и тех, кто этого не сделал. При этом здесь будет неважно, сколько раз человек обновлял подписку (и обновлял ли ее воообще). Если новый пользователь хоть раз купил премиум за время проведения эксперимента, то он будет считаться \"сконвертировавшимся\". Для проверки метрики буду использовать **критерий Хи-квадрат**.\n",
    "\n",
    "Но сначала я промаркирую пользователей."
   ]
  },
  {
   "cell_type": "code",
   "execution_count": 60,
   "metadata": {},
   "outputs": [],
   "source": [
    "# Список тех, кто купил премиум\n",
    "\n",
    "uid_bought_premium_lst = transactions_october.query('product_type==\"premium_no_trial\"').uid.tolist()"
   ]
  },
  {
   "cell_type": "code",
   "execution_count": 61,
   "metadata": {},
   "outputs": [],
   "source": [
    "# В новом столбце присваиваю 1 тем, кто купил премиум\n",
    "\n",
    "transactions_october['bought_premium'] = [1 if transactions_october.uid.iloc[x] in uid_bought_premium_lst else 0 for x in range(transactions_october.shape[0])]"
   ]
  },
  {
   "cell_type": "markdown",
   "metadata": {},
   "source": [
    "Далее сравню распределение по двум контрольным группам.\n",
    "\n",
    "**Гипотезы для А/А-теста:**\n",
    "- $H_0$: статистически значимых различий нет; \n",
    "- $H_1$: статистически значимые различия есть."
   ]
  },
  {
   "cell_type": "code",
   "execution_count": 62,
   "metadata": {},
   "outputs": [
    {
     "data": {
      "text/html": [
       "<div>\n",
       "<style scoped>\n",
       "    .dataframe tbody tr th:only-of-type {\n",
       "        vertical-align: middle;\n",
       "    }\n",
       "\n",
       "    .dataframe tbody tr th {\n",
       "        vertical-align: top;\n",
       "    }\n",
       "\n",
       "    .dataframe thead th {\n",
       "        text-align: right;\n",
       "    }\n",
       "</style>\n",
       "<table border=\"1\" class=\"dataframe\">\n",
       "  <thead>\n",
       "    <tr style=\"text-align: right;\">\n",
       "      <th>bought_premium</th>\n",
       "      <th>0</th>\n",
       "      <th>1</th>\n",
       "    </tr>\n",
       "    <tr>\n",
       "      <th>group</th>\n",
       "      <th></th>\n",
       "      <th></th>\n",
       "    </tr>\n",
       "  </thead>\n",
       "  <tbody>\n",
       "    <tr>\n",
       "      <th>control_1</th>\n",
       "      <td>42</td>\n",
       "      <td>57</td>\n",
       "    </tr>\n",
       "    <tr>\n",
       "      <th>control_2</th>\n",
       "      <td>39</td>\n",
       "      <td>62</td>\n",
       "    </tr>\n",
       "  </tbody>\n",
       "</table>\n",
       "</div>"
      ],
      "text/plain": [
       "bought_premium   0   1\n",
       "group                 \n",
       "control_1       42  57\n",
       "control_2       39  62"
      ]
     },
     "execution_count": 62,
     "metadata": {},
     "output_type": "execute_result"
    },
    {
     "name": "stdout",
     "output_type": "stream",
     "text": [
      "statistic: 0.16385288285027308, pvalue: 0.6856337516813173\n"
     ]
    }
   ],
   "source": [
    "crosstab = (transactions_october.query('group!=\"test\"')\n",
    "    .groupby(['bought_premium', 'group'], as_index=False).agg({'uid':'nunique'})\n",
    "    .pivot(columns='bought_premium', index='group').droplevel(0, axis=1))\n",
    "\n",
    "crosstab # матрица\n",
    "\n",
    "statistic, pvalue, dof, expected_freq = scipy.stats.chi2_contingency(crosstab)\n",
    "print(f'''statistic: {statistic}, pvalue: {pvalue}''')"
   ]
  },
  {
   "cell_type": "markdown",
   "metadata": {},
   "source": [
    "Значение `p-value` сильно выше допустимого порога 0.05. Это говорит о том, что между двумя контрольными группами значимых различий не обнаружить не удалось, А/А-тест прошел успешно. \n",
    "\n",
    "Теперь перейду в А/В-тесту: сравню обе контрольные группы с тестовой. Если тест покажет значимый результат, то изменение цены подписки действительно повлияло на метрику. Соответственно, если результат незначим - то никакого эффекта от изменения нет (либо он настолько мал, что его сложно задетектить).\n",
    "\n",
    "**Гипотезы для А/В-теста:**\n",
    "- $H_0$: статистически значимых различий нет; \n",
    "- $H_1$: статистически значимые различия есть."
   ]
  },
  {
   "cell_type": "code",
   "execution_count": 63,
   "metadata": {},
   "outputs": [
    {
     "data": {
      "text/html": [
       "<div>\n",
       "<style scoped>\n",
       "    .dataframe tbody tr th:only-of-type {\n",
       "        vertical-align: middle;\n",
       "    }\n",
       "\n",
       "    .dataframe tbody tr th {\n",
       "        vertical-align: top;\n",
       "    }\n",
       "\n",
       "    .dataframe thead th {\n",
       "        text-align: right;\n",
       "    }\n",
       "</style>\n",
       "<table border=\"1\" class=\"dataframe\">\n",
       "  <thead>\n",
       "    <tr style=\"text-align: right;\">\n",
       "      <th>bought_premium</th>\n",
       "      <th>0</th>\n",
       "      <th>1</th>\n",
       "    </tr>\n",
       "    <tr>\n",
       "      <th>group</th>\n",
       "      <th></th>\n",
       "      <th></th>\n",
       "    </tr>\n",
       "  </thead>\n",
       "  <tbody>\n",
       "    <tr>\n",
       "      <th>control_1</th>\n",
       "      <td>42</td>\n",
       "      <td>57</td>\n",
       "    </tr>\n",
       "    <tr>\n",
       "      <th>control_2</th>\n",
       "      <td>39</td>\n",
       "      <td>62</td>\n",
       "    </tr>\n",
       "    <tr>\n",
       "      <th>test</th>\n",
       "      <td>41</td>\n",
       "      <td>45</td>\n",
       "    </tr>\n",
       "  </tbody>\n",
       "</table>\n",
       "</div>"
      ],
      "text/plain": [
       "bought_premium   0   1\n",
       "group                 \n",
       "control_1       42  57\n",
       "control_2       39  62\n",
       "test            41  45"
      ]
     },
     "execution_count": 63,
     "metadata": {},
     "output_type": "execute_result"
    },
    {
     "name": "stdout",
     "output_type": "stream",
     "text": [
      "statistic: 1.562256768947959, pvalue: 0.4578890448026278, dof: 2\n"
     ]
    }
   ],
   "source": [
    "crosstab_1 = (transactions_october.groupby(['bought_premium', 'group'], as_index=False)\n",
    "    .agg({'uid':'nunique'}).pivot(columns='bought_premium', index='group').droplevel(0, axis=1))\n",
    "\n",
    "crosstab_1\n",
    "\n",
    "statistic, pvalue, dof, expected_freq = scipy.stats.chi2_contingency(crosstab_1)\n",
    "print(f'''statistic: {statistic}, pvalue: {pvalue}, dof: {dof}''')"
   ]
  },
  {
   "cell_type": "markdown",
   "metadata": {},
   "source": [
    "A/А/B тест тоже не показал значимых различий: изменение цены на подписку премиум не повлияло на конверсию в премиум среди новых зарегистрированных *платящих* пользователей.\n",
    "\n",
    "***Небольшая ремарка.*** Мне кажется, более правильным будет считать конверсию на полных данных, то есть с пользователями из датафреймов `users` (даже если пользователь ничего не купил, не факт, что не купит премиум в будущем). Однако из-за того, что нет данных о регистрации в `users`, такие расчеты произвести невозможно.\n",
    "\n",
    "*Теперь перейду к оценке количественной метрики.*\n",
    "### Расчёт ARPPU\n",
    "Прежде чем приступать к расчету ARPPU, следует определиться, какие конкретно данные будут попадать под эту метрику и каким способом эта метрика будет получена. \n",
    "\n",
    "***Какие данные брать?*** Поскольку я проверяю, **есть ли связь в целом** (общая ли это тенденция - влияние покупки премиума на выбор других продуктов), то буду проверять только на периоде проведения эксперимента и в целевых странах. Главная сложность в том, что *я не знаю, могло ли в теории изменение цены подписки повлиять на готовность отдельного пользователя покупать другие продукты приложения.* Если это так, тогда необходимо считать ARPPU по общей выручке, причем надо брать всех участников экперимента, *которые в теории могли купить премиум* (не исключая другие типы продукта и платежные системы). В противном случае (если связи между разными типами продуктов нет), ARPPU будет считаться только по платежам за покупку премиума. **Далее мне предстоит проверить это допущение.**\n",
    "\n",
    "***Какой стат.метод выбрать для проверки?*** Пока t-test мне кажется самым оптимальным вариантом, однако далее надо будет проверить, подойдет ли он под мои данные (если нет - придется искать другие варианты).\n",
    "\n",
    "___\n",
    "\n",
    "\n",
    "**Проверка теории о наличии связи между разными типами продуктов**\n",
    "\n",
    "Сначала я найду тех пользователей, которые после покупки премиума в период экперимента купили что-то еще. В частности, меня интересует, какие продукты, через какой временной промежуток и на какую сумму пользователи чаще всего покупали после премиума. Если я увижу, что поведение и финансовые привычки (готовность тратить деньги на другие продукты) у пользователей из тестовой группы отличается от пользователей из контрольной, то теория о наличии связи между продуктами подтвердится. "
   ]
  },
  {
   "cell_type": "code",
   "execution_count": 100,
   "metadata": {},
   "outputs": [],
   "source": [
    "# В датафрейм df попадут те, кто в период действия эксперимента хоть раз купил премиум\n",
    "df = transactions.query('uid in @uid_bought_premium_lst')"
   ]
  },
  {
   "cell_type": "code",
   "execution_count": 101,
   "metadata": {},
   "outputs": [],
   "source": [
    "# Это те, кто покупал премиум во время экперимента\n",
    "df_premium_no_trial_only = df.query('product_type ==\"premium_no_trial\" & payment_id in [68,147]')[['uid', 'paid_at_corrected']]"
   ]
  },
  {
   "cell_type": "code",
   "execution_count": 102,
   "metadata": {},
   "outputs": [],
   "source": [
    "# Отбрасываю повторяющиеся uid (те, кто купил премиум дважды) и беру только первую дату\n",
    "df_premium_no_trial_only = df_premium_no_trial_only.groupby('uid').paid_at_corrected.min().reset_index()"
   ]
  },
  {
   "cell_type": "code",
   "execution_count": 112,
   "metadata": {},
   "outputs": [],
   "source": [
    "# Мне необходимо было соединить df с df_premium_no_trial_only \n",
    "# по условию df.uid==df_premium_no_trial_only.uid and df.paid_at_corrected>=df_premium_no_trial_only.paid_at_corrected\n",
    "# Если в SQL сделать это довольно просто, то здесь - в pandas - придется делать это в несколько шагов:\n",
    "# (1) сначала я сделаю декартово произведение таблиц, \n",
    "# (2) потом отфильтрую колонки по нужному мне условию,\n",
    "# (3) затем просто выкину все premium_no_trial\n",
    "\n",
    "# Да, это затратно для ресурсов компьютера, но другого варианта для корректной фильтрации я пока не вижу\n",
    "\n",
    "# Шаг 1 - декартово произведение:\n",
    "cross_join = pd.merge(df_premium_no_trial_only.assign(key=0), df.assign(key=0), on='key').drop('key', axis=1)\n",
    "\n",
    "# Шаг 2 - фильтрация:\n",
    "cr = cross_join[(cross_join[\"uid_x\"] == cross_join[\"uid_y\"]) & (cross_join[\"paid_at_corrected_x\"] <= cross_join[\"paid_at_corrected_y\"])]\n",
    "\n",
    "# Шаг 3 - убираю покупки premium_no_trial и оставляю только необходимые столбцы \n",
    "purchased_after_premium = cr[cr.paid_at_corrected_x <cr.paid_at_corrected_y].query('product_type!=\"premium_no_trial\"')[['uid_y', \n",
    "             'joined_at', 'paid_at_corrected_y', 'product_type', 'revenue', 'group']].rename(columns={'uid_y':'uid', \n",
    "                                                                       'paid_at_corrected_y':'paid_at_corrected'})"
   ]
  },
  {
   "cell_type": "code",
   "execution_count": 113,
   "metadata": {},
   "outputs": [],
   "source": [
    "# Из ранее созданного датафрейма добавляю столбец с датой покупки премиума и в процессе переименовываю его\n",
    "purchased_after_premium = (purchased_after_premium.merge(df_premium_no_trial_only.rename(columns={'paid_at_corrected':'bought_premium'}), \n",
    "                              how='left', on='uid'))"
   ]
  },
  {
   "cell_type": "code",
   "execution_count": 114,
   "metadata": {},
   "outputs": [],
   "source": [
    "# Добавляю интервал (время, прошедшее с момента первой покупки премиума до текущей покупки)\n",
    "purchased_after_premium['interval'] = purchased_after_premium.paid_at_corrected - purchased_after_premium.bought_premium"
   ]
  },
  {
   "cell_type": "code",
   "execution_count": 132,
   "metadata": {
    "scrolled": true
   },
   "outputs": [],
   "source": [
    "# И интервал в минутах для визуализации\n",
    "purchased_after_premium['interval_in_min'] = purchased_after_premium.interval.dt.total_seconds().div(60).astype(int)"
   ]
  },
  {
   "cell_type": "code",
   "execution_count": 133,
   "metadata": {},
   "outputs": [
    {
     "data": {
      "text/html": [
       "<div>\n",
       "<style scoped>\n",
       "    .dataframe tbody tr th:only-of-type {\n",
       "        vertical-align: middle;\n",
       "    }\n",
       "\n",
       "    .dataframe tbody tr th {\n",
       "        vertical-align: top;\n",
       "    }\n",
       "\n",
       "    .dataframe thead th {\n",
       "        text-align: right;\n",
       "    }\n",
       "</style>\n",
       "<table border=\"1\" class=\"dataframe\">\n",
       "  <thead>\n",
       "    <tr style=\"text-align: right;\">\n",
       "      <th></th>\n",
       "      <th>uid</th>\n",
       "      <th>joined_at</th>\n",
       "      <th>paid_at_corrected</th>\n",
       "      <th>product_type</th>\n",
       "      <th>revenue</th>\n",
       "      <th>group</th>\n",
       "      <th>bought_premium</th>\n",
       "      <th>interval</th>\n",
       "      <th>interval_in_min</th>\n",
       "    </tr>\n",
       "  </thead>\n",
       "  <tbody>\n",
       "    <tr>\n",
       "      <th>0</th>\n",
       "      <td>891589239.0</td>\n",
       "      <td>2017-10-31 14:16:00</td>\n",
       "      <td>2017-11-09 15:44:00</td>\n",
       "      <td>coins</td>\n",
       "      <td>6305.0</td>\n",
       "      <td>test</td>\n",
       "      <td>2017-10-31 16:07:00</td>\n",
       "      <td>8 days 23:37:00</td>\n",
       "      <td>12937</td>\n",
       "    </tr>\n",
       "    <tr>\n",
       "      <th>1</th>\n",
       "      <td>891589239.0</td>\n",
       "      <td>2017-10-31 14:16:00</td>\n",
       "      <td>2017-11-04 06:46:00</td>\n",
       "      <td>coins</td>\n",
       "      <td>6305.0</td>\n",
       "      <td>test</td>\n",
       "      <td>2017-10-31 16:07:00</td>\n",
       "      <td>3 days 14:39:00</td>\n",
       "      <td>5199</td>\n",
       "    </tr>\n",
       "    <tr>\n",
       "      <th>2</th>\n",
       "      <td>891589239.0</td>\n",
       "      <td>2017-10-31 14:16:00</td>\n",
       "      <td>2017-11-02 11:45:00</td>\n",
       "      <td>coins</td>\n",
       "      <td>6305.0</td>\n",
       "      <td>test</td>\n",
       "      <td>2017-10-31 16:07:00</td>\n",
       "      <td>1 days 19:38:00</td>\n",
       "      <td>2618</td>\n",
       "    </tr>\n",
       "    <tr>\n",
       "      <th>3</th>\n",
       "      <td>891607515.0</td>\n",
       "      <td>2017-10-31 03:34:00</td>\n",
       "      <td>2017-11-13 15:26:00</td>\n",
       "      <td>coins</td>\n",
       "      <td>6305.0</td>\n",
       "      <td>control_1</td>\n",
       "      <td>2017-11-13 15:07:00</td>\n",
       "      <td>0 days 00:19:00</td>\n",
       "      <td>19</td>\n",
       "    </tr>\n",
       "    <tr>\n",
       "      <th>4</th>\n",
       "      <td>891625629.0</td>\n",
       "      <td>2017-10-30 19:29:00</td>\n",
       "      <td>2017-11-13 21:14:00</td>\n",
       "      <td>coins</td>\n",
       "      <td>1261.0</td>\n",
       "      <td>control_2</td>\n",
       "      <td>2017-11-11 10:21:00</td>\n",
       "      <td>2 days 10:53:00</td>\n",
       "      <td>3533</td>\n",
       "    </tr>\n",
       "  </tbody>\n",
       "</table>\n",
       "</div>"
      ],
      "text/plain": [
       "           uid           joined_at   paid_at_corrected product_type  revenue   \n",
       "0  891589239.0 2017-10-31 14:16:00 2017-11-09 15:44:00        coins   6305.0  \\\n",
       "1  891589239.0 2017-10-31 14:16:00 2017-11-04 06:46:00        coins   6305.0   \n",
       "2  891589239.0 2017-10-31 14:16:00 2017-11-02 11:45:00        coins   6305.0   \n",
       "3  891607515.0 2017-10-31 03:34:00 2017-11-13 15:26:00        coins   6305.0   \n",
       "4  891625629.0 2017-10-30 19:29:00 2017-11-13 21:14:00        coins   1261.0   \n",
       "\n",
       "       group      bought_premium        interval  interval_in_min  \n",
       "0       test 2017-10-31 16:07:00 8 days 23:37:00            12937  \n",
       "1       test 2017-10-31 16:07:00 3 days 14:39:00             5199  \n",
       "2       test 2017-10-31 16:07:00 1 days 19:38:00             2618  \n",
       "3  control_1 2017-11-13 15:07:00 0 days 00:19:00               19  \n",
       "4  control_2 2017-11-11 10:21:00 2 days 10:53:00             3533  "
      ]
     },
     "execution_count": 133,
     "metadata": {},
     "output_type": "execute_result"
    }
   ],
   "source": [
    "# Как выглядит датафрейм?\n",
    "purchased_after_premium.head()"
   ]
  },
  {
   "cell_type": "code",
   "execution_count": 110,
   "metadata": {},
   "outputs": [
    {
     "data": {
      "text/html": [
       "<div>\n",
       "<style scoped>\n",
       "    .dataframe tbody tr th:only-of-type {\n",
       "        vertical-align: middle;\n",
       "    }\n",
       "\n",
       "    .dataframe tbody tr th {\n",
       "        vertical-align: top;\n",
       "    }\n",
       "\n",
       "    .dataframe thead tr th {\n",
       "        text-align: left;\n",
       "    }\n",
       "\n",
       "    .dataframe thead tr:last-of-type th {\n",
       "        text-align: right;\n",
       "    }\n",
       "</style>\n",
       "<table border=\"1\" class=\"dataframe\">\n",
       "  <thead>\n",
       "    <tr>\n",
       "      <th></th>\n",
       "      <th colspan=\"4\" halign=\"left\">revenue</th>\n",
       "      <th>product_type</th>\n",
       "      <th colspan=\"3\" halign=\"left\">uid</th>\n",
       "    </tr>\n",
       "    <tr>\n",
       "      <th></th>\n",
       "      <th>mean</th>\n",
       "      <th>median</th>\n",
       "      <th>min</th>\n",
       "      <th>max</th>\n",
       "      <th>unique</th>\n",
       "      <th>count</th>\n",
       "      <th>nunique</th>\n",
       "      <th>&lt;lambda_0&gt;</th>\n",
       "    </tr>\n",
       "    <tr>\n",
       "      <th>group</th>\n",
       "      <th></th>\n",
       "      <th></th>\n",
       "      <th></th>\n",
       "      <th></th>\n",
       "      <th></th>\n",
       "      <th></th>\n",
       "      <th></th>\n",
       "      <th></th>\n",
       "    </tr>\n",
       "  </thead>\n",
       "  <tbody>\n",
       "    <tr>\n",
       "      <th>control_1</th>\n",
       "      <td>6003.655738</td>\n",
       "      <td>3575.0</td>\n",
       "      <td>741.0</td>\n",
       "      <td>31525.0</td>\n",
       "      <td>[coins, other_type]</td>\n",
       "      <td>61</td>\n",
       "      <td>24</td>\n",
       "      <td>2.541667</td>\n",
       "    </tr>\n",
       "    <tr>\n",
       "      <th>control_2</th>\n",
       "      <td>3167.195652</td>\n",
       "      <td>2314.0</td>\n",
       "      <td>689.0</td>\n",
       "      <td>19513.0</td>\n",
       "      <td>[coins, other_type]</td>\n",
       "      <td>46</td>\n",
       "      <td>23</td>\n",
       "      <td>2.000000</td>\n",
       "    </tr>\n",
       "    <tr>\n",
       "      <th>test</th>\n",
       "      <td>5237.000000</td>\n",
       "      <td>3913.0</td>\n",
       "      <td>754.0</td>\n",
       "      <td>31525.0</td>\n",
       "      <td>[coins, other_type, trial_premium]</td>\n",
       "      <td>39</td>\n",
       "      <td>12</td>\n",
       "      <td>3.250000</td>\n",
       "    </tr>\n",
       "  </tbody>\n",
       "</table>\n",
       "</div>"
      ],
      "text/plain": [
       "               revenue                           \n",
       "                  mean  median    min      max   \n",
       "group                                            \n",
       "control_1  6003.655738  3575.0  741.0  31525.0  \\\n",
       "control_2  3167.195652  2314.0  689.0  19513.0   \n",
       "test       5237.000000  3913.0  754.0  31525.0   \n",
       "\n",
       "                                 product_type   uid                     \n",
       "                                       unique count nunique <lambda_0>  \n",
       "group                                                                   \n",
       "control_1                 [coins, other_type]    61      24   2.541667  \n",
       "control_2                 [coins, other_type]    46      23   2.000000  \n",
       "test       [coins, other_type, trial_premium]    39      12   3.250000  "
      ]
     },
     "execution_count": 110,
     "metadata": {},
     "output_type": "execute_result"
    }
   ],
   "source": [
    "(   purchased_after_premium.groupby('group')\n",
    "    .agg({'revenue':['mean', 'median', 'min', 'max'], \n",
    "          'product_type':'unique', \n",
    "          'uid':['count', 'nunique', lambda x: x.count() / x.nunique()]}) )"
   ]
  },
  {
   "cell_type": "markdown",
   "metadata": {},
   "source": [
    "По таблице можно сказать, что данные распределены очень неравномерно. Есть огромный разрыв между средней и медианой во всех выборках, выбросы в контроле-1 и тестовой группах. \n",
    "\n",
    "Не думаю, что стоит многого ожидать от столь малых выборок. Количество повторных покупок на человека (см. столбец `<lambda_0>`) тоже в контексте такого количества наблюдений малоинформативно, к сожалению. По крайней мере, я не вижу явных отличий между группами, что позволяет мне предположить отсутсвие влияния целевого изменения на поведение пользователей. Сразу оговорюсь, маленькие выборки с очень шумными распределениями не очень-то располагают к сравнению и изучению через стат.тесты. Мне остается только визуализировать полученные данные и смотреть, есть ли там какие-либо скрытые / неочевидные зависимости.\n",
    "\n",
    "---\n",
    "\n",
    "Отдельно отмечу, что меня привлек лишний `product_type` в тестовой группе, это `trial_premium`. Если его купило большинство пользователей тестовой группы, то это может стать как раз-таки тем неочевидным эффектом в изменении поведенческого паттерна, который я ищу. Проверю это:"
   ]
  },
  {
   "cell_type": "code",
   "execution_count": 167,
   "metadata": {},
   "outputs": [
    {
     "data": {
      "text/html": [
       "<div>\n",
       "<style scoped>\n",
       "    .dataframe tbody tr th:only-of-type {\n",
       "        vertical-align: middle;\n",
       "    }\n",
       "\n",
       "    .dataframe tbody tr th {\n",
       "        vertical-align: top;\n",
       "    }\n",
       "\n",
       "    .dataframe thead th {\n",
       "        text-align: right;\n",
       "    }\n",
       "</style>\n",
       "<table border=\"1\" class=\"dataframe\">\n",
       "  <thead>\n",
       "    <tr style=\"text-align: right;\">\n",
       "      <th></th>\n",
       "      <th>uid</th>\n",
       "      <th>joined_at</th>\n",
       "      <th>paid_at_corrected</th>\n",
       "      <th>product_type</th>\n",
       "      <th>revenue</th>\n",
       "      <th>group</th>\n",
       "      <th>bought_premium</th>\n",
       "      <th>interval</th>\n",
       "      <th>interval_in_min</th>\n",
       "    </tr>\n",
       "  </thead>\n",
       "  <tbody>\n",
       "    <tr>\n",
       "      <th>68</th>\n",
       "      <td>892065108.0</td>\n",
       "      <td>2017-10-21 20:40:00</td>\n",
       "      <td>2017-11-11 03:28:00</td>\n",
       "      <td>trial_premium</td>\n",
       "      <td>12454.0</td>\n",
       "      <td>test</td>\n",
       "      <td>2017-11-08 22:45:00</td>\n",
       "      <td>2 days 04:43:00</td>\n",
       "      <td>3163.0</td>\n",
       "    </tr>\n",
       "  </tbody>\n",
       "</table>\n",
       "</div>"
      ],
      "text/plain": [
       "            uid           joined_at   paid_at_corrected   product_type  \\\n",
       "68  892065108.0 2017-10-21 20:40:00 2017-11-11 03:28:00  trial_premium   \n",
       "\n",
       "    revenue group      bought_premium        interval  interval_in_min  \n",
       "68  12454.0  test 2017-11-08 22:45:00 2 days 04:43:00           3163.0  "
      ]
     },
     "execution_count": 167,
     "metadata": {},
     "output_type": "execute_result"
    }
   ],
   "source": [
    "purchased_after_premium.query('product_type==\"trial_premium\"')"
   ]
  },
  {
   "cell_type": "markdown",
   "metadata": {},
   "source": [
    "Нет, `trial_premium` купил всего лишь один человек, что совсем не приближает меня к изначальному предположению.\n",
    "\n",
    "***Далее визуализирую данные на графике:***"
   ]
  },
  {
   "cell_type": "code",
   "execution_count": 339,
   "metadata": {},
   "outputs": [
    {
     "data": {
      "image/png": "[encoded data removed]",
      "text/plain": [
       "<Figure size 1500x1000 with 1 Axes>"
      ]
     },
     "metadata": {},
     "output_type": "display_data"
    }
   ],
   "source": [
    "# x = время, прошедшее с момента первой покупки премиума\n",
    "# y = сумма покупки\n",
    "plt.figure(figsize=(15, 10))\n",
    "plt.title(f'''Зависимость между суммой покупки и временем, прошедшим с момента покупки премиума''', fontsize=12)\n",
    "plt.xlabel(\"Время, прошедшее с момента первой покупки премиума\")\n",
    "plt.ylabel(\"Сумма покупки\")\n",
    "sns.scatterplot(data=purchased_after_premium, x='interval_in_min', y='revenue', hue='group', alpha=.8);"
   ]
  },
  {
   "cell_type": "markdown",
   "metadata": {},
   "source": [
    "И здесь я опять-таки не вижу каких-то очевидных различий между тестовой и двумя контрольными выборками. Прослеживается общая тенденция покупать много мелких недорогих услуг через недолгое время после покупки премиума. Чем дальше - тем меньше у пользователя желания вообще что-либо покупать, что вполне закономерно.  \n",
    "\n",
    "---\n",
    "\n",
    "А может ли изменение цены подписки влиять не на выбор других продуктов, *а на желание покупать что-либо вообще?* Далее я проверю, значимы ли различия между группами в соотношении купивших что-то повторно и ничего не купивших после покупки премиума. "
   ]
  },
  {
   "cell_type": "code",
   "execution_count": 135,
   "metadata": {},
   "outputs": [],
   "source": [
    "# Список тех, кто что-то купил после покупки premium_no_trial во время экперимента\n",
    "purchased_after_premium_lst = purchased_after_premium.uid.unique().tolist()\n",
    "# (список сделан на основе ранее созданного датафрейма)"
   ]
  },
  {
   "cell_type": "code",
   "execution_count": 136,
   "metadata": {},
   "outputs": [],
   "source": [
    "# Записываюю в новый датафрейм всех, кто во время экперимента покупал premium_no_trial и их группу\n",
    "new_df = df[['group','uid']].drop_duplicates(keep='first')"
   ]
  },
  {
   "cell_type": "code",
   "execution_count": 137,
   "metadata": {},
   "outputs": [],
   "source": [
    "# В новом столбце для тех, кто после покупки премиума купил какой-либо другой продукт, ставлю единицу, остальным ноль\n",
    "new_df['bought_smth_else'] = [1 if x in purchased_after_premium_lst else 0 for x in new_df.uid]"
   ]
  },
  {
   "cell_type": "code",
   "execution_count": 138,
   "metadata": {},
   "outputs": [
    {
     "data": {
      "text/plain": [
       "True"
      ]
     },
     "execution_count": 138,
     "metadata": {},
     "output_type": "execute_result"
    }
   ],
   "source": [
    "# На всякий случай проверю, все ли совпало\n",
    "len(purchased_after_premium_lst) == new_df.bought_smth_else.sum()\n",
    "# Да, всё ок"
   ]
  },
  {
   "cell_type": "code",
   "execution_count": 139,
   "metadata": {},
   "outputs": [
    {
     "data": {
      "text/html": [
       "<div>\n",
       "<style scoped>\n",
       "    .dataframe tbody tr th:only-of-type {\n",
       "        vertical-align: middle;\n",
       "    }\n",
       "\n",
       "    .dataframe tbody tr th {\n",
       "        vertical-align: top;\n",
       "    }\n",
       "\n",
       "    .dataframe thead th {\n",
       "        text-align: right;\n",
       "    }\n",
       "</style>\n",
       "<table border=\"1\" class=\"dataframe\">\n",
       "  <thead>\n",
       "    <tr style=\"text-align: right;\">\n",
       "      <th></th>\n",
       "      <th>group</th>\n",
       "      <th>uid</th>\n",
       "      <th>bought_smth_else</th>\n",
       "    </tr>\n",
       "  </thead>\n",
       "  <tbody>\n",
       "    <tr>\n",
       "      <th>2</th>\n",
       "      <td>test</td>\n",
       "      <td>892236423.0</td>\n",
       "      <td>1</td>\n",
       "    </tr>\n",
       "    <tr>\n",
       "      <th>5</th>\n",
       "      <td>test</td>\n",
       "      <td>892426491.0</td>\n",
       "      <td>0</td>\n",
       "    </tr>\n",
       "    <tr>\n",
       "      <th>11</th>\n",
       "      <td>test</td>\n",
       "      <td>891861048.0</td>\n",
       "      <td>1</td>\n",
       "    </tr>\n",
       "    <tr>\n",
       "      <th>15</th>\n",
       "      <td>test</td>\n",
       "      <td>892186941.0</td>\n",
       "      <td>1</td>\n",
       "    </tr>\n",
       "    <tr>\n",
       "      <th>21</th>\n",
       "      <td>test</td>\n",
       "      <td>891071157.0</td>\n",
       "      <td>0</td>\n",
       "    </tr>\n",
       "  </tbody>\n",
       "</table>\n",
       "</div>"
      ],
      "text/plain": [
       "   group          uid  bought_smth_else\n",
       "2   test  892236423.0                 1\n",
       "5   test  892426491.0                 0\n",
       "11  test  891861048.0                 1\n",
       "15  test  892186941.0                 1\n",
       "21  test  891071157.0                 0"
      ]
     },
     "execution_count": 139,
     "metadata": {},
     "output_type": "execute_result"
    }
   ],
   "source": [
    "# Как выглядит датафрейм?\n",
    "new_df.head()"
   ]
  },
  {
   "cell_type": "code",
   "execution_count": 140,
   "metadata": {},
   "outputs": [
    {
     "data": {
      "text/html": [
       "<div>\n",
       "<style scoped>\n",
       "    .dataframe tbody tr th:only-of-type {\n",
       "        vertical-align: middle;\n",
       "    }\n",
       "\n",
       "    .dataframe tbody tr th {\n",
       "        vertical-align: top;\n",
       "    }\n",
       "\n",
       "    .dataframe thead tr th {\n",
       "        text-align: left;\n",
       "    }\n",
       "\n",
       "    .dataframe thead tr:last-of-type th {\n",
       "        text-align: right;\n",
       "    }\n",
       "</style>\n",
       "<table border=\"1\" class=\"dataframe\">\n",
       "  <thead>\n",
       "    <tr>\n",
       "      <th></th>\n",
       "      <th colspan=\"2\" halign=\"left\">uid</th>\n",
       "    </tr>\n",
       "    <tr>\n",
       "      <th>bought_smth_else</th>\n",
       "      <th>0</th>\n",
       "      <th>1</th>\n",
       "    </tr>\n",
       "    <tr>\n",
       "      <th>group</th>\n",
       "      <th></th>\n",
       "      <th></th>\n",
       "    </tr>\n",
       "  </thead>\n",
       "  <tbody>\n",
       "    <tr>\n",
       "      <th>control_1</th>\n",
       "      <td>33</td>\n",
       "      <td>24</td>\n",
       "    </tr>\n",
       "    <tr>\n",
       "      <th>control_2</th>\n",
       "      <td>39</td>\n",
       "      <td>23</td>\n",
       "    </tr>\n",
       "    <tr>\n",
       "      <th>test</th>\n",
       "      <td>33</td>\n",
       "      <td>12</td>\n",
       "    </tr>\n",
       "  </tbody>\n",
       "</table>\n",
       "</div>"
      ],
      "text/plain": [
       "                 uid    \n",
       "bought_smth_else   0   1\n",
       "group                   \n",
       "control_1         33  24\n",
       "control_2         39  23\n",
       "test              33  12"
      ]
     },
     "execution_count": 140,
     "metadata": {},
     "output_type": "execute_result"
    },
    {
     "name": "stdout",
     "output_type": "stream",
     "text": [
      "statistic: 2.6566538818341625, pvalue: 0.26492011774326374, dof: 2\n"
     ]
    }
   ],
   "source": [
    "crstab = (new_df.groupby(['group', 'bought_smth_else'], as_index=False)\n",
    "          .agg({'uid':'count'}).pivot(index='group', columns='bought_smth_else'))\n",
    "crstab\n",
    "\n",
    "statistic, pvalue, dof, expected_freq = scipy.stats.chi2_contingency(crstab)\n",
    "print(f'''statistic: {statistic}, pvalue: {pvalue}, dof: {dof}''')"
   ]
  },
  {
   "cell_type": "markdown",
   "metadata": {},
   "source": [
    "**Хи-квадрат** сильно выше порогового значения 0.05. Это говорит о том, что значимых различий между группами не найдено.\n",
    "___\n",
    "\n",
    "***Вывод по вопросу о выборе данных.*** Из всего вышесказанного, думаю, вполне логично заключить, что между покупкой разных типов подписки нет значимой связи. Иными словами, изменение цены подписки никак не повлияло на готовность платить за другие виды подписок у отдельного пользователя. А это значит, что **ARPPU** все же следует считать через сумму транзакций по `premium_no_trial`, а не по средней общей выручке за все продукты.\n",
    "\n",
    "Теперь осталось отобрать данные для расчета ARPPU."
   ]
  },
  {
   "cell_type": "code",
   "execution_count": 141,
   "metadata": {},
   "outputs": [
    {
     "data": {
      "text/html": [
       "<div>\n",
       "<style scoped>\n",
       "    .dataframe tbody tr th:only-of-type {\n",
       "        vertical-align: middle;\n",
       "    }\n",
       "\n",
       "    .dataframe tbody tr th {\n",
       "        vertical-align: top;\n",
       "    }\n",
       "\n",
       "    .dataframe thead th {\n",
       "        text-align: right;\n",
       "    }\n",
       "</style>\n",
       "<table border=\"1\" class=\"dataframe\">\n",
       "  <thead>\n",
       "    <tr style=\"text-align: right;\">\n",
       "      <th></th>\n",
       "      <th>group</th>\n",
       "      <th>uid</th>\n",
       "      <th>revenue</th>\n",
       "    </tr>\n",
       "  </thead>\n",
       "  <tbody>\n",
       "    <tr>\n",
       "      <th>0</th>\n",
       "      <td>control_1</td>\n",
       "      <td>891607515.0</td>\n",
       "      <td>6292.0</td>\n",
       "    </tr>\n",
       "    <tr>\n",
       "      <th>1</th>\n",
       "      <td>control_1</td>\n",
       "      <td>891613833.0</td>\n",
       "      <td>1898.0</td>\n",
       "    </tr>\n",
       "    <tr>\n",
       "      <th>2</th>\n",
       "      <td>control_1</td>\n",
       "      <td>891616074.0</td>\n",
       "      <td>6292.0</td>\n",
       "    </tr>\n",
       "  </tbody>\n",
       "</table>\n",
       "</div>"
      ],
      "text/plain": [
       "       group          uid  revenue\n",
       "0  control_1  891607515.0   6292.0\n",
       "1  control_1  891613833.0   1898.0\n",
       "2  control_1  891616074.0   6292.0"
      ]
     },
     "execution_count": 141,
     "metadata": {},
     "output_type": "execute_result"
    }
   ],
   "source": [
    "# Собираю данные для t-test(-а)\n",
    "\n",
    "data_for_arppu = (transactions[(transactions.joined_at.dt.month >= 10) &\n",
    "                    (transactions.paid_at_corrected.dt.month <= 12)] # период проведения теста\n",
    "                     # только участники эксперимента, купившие премиум:\n",
    "                     .query('country in @right_countries_lst & uid in @uid_bought_premium_lst &  payment_id in [68,147]') \n",
    "                     .groupby(['group', 'uid']).revenue.sum().reset_index())\n",
    "data_for_arppu.head(3)"
   ]
  },
  {
   "cell_type": "markdown",
   "metadata": {},
   "source": [
    "На графике сразу видны сильные выбросы по всем трем группам, однако разброс значений у тестовой группы сильно больше, чем у контрольных:"
   ]
  },
  {
   "cell_type": "code",
   "execution_count": 143,
   "metadata": {},
   "outputs": [
    {
     "data": {
      "image/png": "[encoded data removed]",
      "text/plain": [
       "<Figure size 1000x600 with 1 Axes>"
      ]
     },
     "metadata": {},
     "output_type": "display_data"
    }
   ],
   "source": [
    "plt.figure(figsize=(10, 6))\n",
    "plt.title(f'''Распределение ARPPU в октябре-декабре 2017 между группами''', fontsize=10)\n",
    "sns.boxplot(data=data_for_arppu, \n",
    "           x='group', y='revenue');"
   ]
  },
  {
   "cell_type": "code",
   "execution_count": 323,
   "metadata": {},
   "outputs": [
    {
     "data": {
      "text/html": [
       "<div>\n",
       "<style scoped>\n",
       "    .dataframe tbody tr th:only-of-type {\n",
       "        vertical-align: middle;\n",
       "    }\n",
       "\n",
       "    .dataframe tbody tr th {\n",
       "        vertical-align: top;\n",
       "    }\n",
       "\n",
       "    .dataframe thead th {\n",
       "        text-align: right;\n",
       "    }\n",
       "</style>\n",
       "<table border=\"1\" class=\"dataframe\">\n",
       "  <thead>\n",
       "    <tr style=\"text-align: right;\">\n",
       "      <th></th>\n",
       "      <th>group</th>\n",
       "      <th>revenue</th>\n",
       "    </tr>\n",
       "  </thead>\n",
       "  <tbody>\n",
       "    <tr>\n",
       "      <th>0</th>\n",
       "      <td>control_1</td>\n",
       "      <td>57</td>\n",
       "    </tr>\n",
       "    <tr>\n",
       "      <th>1</th>\n",
       "      <td>control_2</td>\n",
       "      <td>62</td>\n",
       "    </tr>\n",
       "    <tr>\n",
       "      <th>2</th>\n",
       "      <td>test</td>\n",
       "      <td>45</td>\n",
       "    </tr>\n",
       "  </tbody>\n",
       "</table>\n",
       "</div>"
      ],
      "text/plain": [
       "       group  revenue\n",
       "0  control_1       57\n",
       "1  control_2       62\n",
       "2       test       45"
      ]
     },
     "execution_count": 323,
     "metadata": {},
     "output_type": "execute_result"
    }
   ],
   "source": [
    "# Количество наблюдений в каждой группе\n",
    "\n",
    "data_for_arppu.groupby('group', as_index=False).revenue.count()"
   ]
  },
  {
   "cell_type": "markdown",
   "metadata": {},
   "source": [
    "Несмотря на то, что наблюдений по каждой группе очень мало, по объему выборок группы, в общем-то, сопоставимы. Проблему также могут создать сильные выбросы, которые подтягивают за собой среднее и часто смещают его (особенно на таких маленьких выборках, как у меня). Из-за всего этого у меня возникли опасения, сработает ли t-test правильно на моих данных. \n",
    "\n",
    "Поэтому, прежде чем что-то считать, я решила проверить, соблюдаются ли все допущения, а именно:\n",
    "1. *гомогенность дисперсий* (не так важно, можно обойти через поправку - критерий Уэлча);\n",
    "2. *нормальность распределения среднего*. "
   ]
  },
  {
   "cell_type": "code",
   "execution_count": 145,
   "metadata": {},
   "outputs": [
    {
     "data": {
      "text/html": [
       "<div>\n",
       "<style scoped>\n",
       "    .dataframe tbody tr th:only-of-type {\n",
       "        vertical-align: middle;\n",
       "    }\n",
       "\n",
       "    .dataframe tbody tr th {\n",
       "        vertical-align: top;\n",
       "    }\n",
       "\n",
       "    .dataframe thead th {\n",
       "        text-align: right;\n",
       "    }\n",
       "</style>\n",
       "<table border=\"1\" class=\"dataframe\">\n",
       "  <thead>\n",
       "    <tr style=\"text-align: right;\">\n",
       "      <th></th>\n",
       "      <th>W</th>\n",
       "      <th>pval</th>\n",
       "      <th>equal_var</th>\n",
       "    </tr>\n",
       "  </thead>\n",
       "  <tbody>\n",
       "    <tr>\n",
       "      <th>levene</th>\n",
       "      <td>0.3956</td>\n",
       "      <td>0.673929</td>\n",
       "      <td>True</td>\n",
       "    </tr>\n",
       "  </tbody>\n",
       "</table>\n",
       "</div>"
      ],
      "text/plain": [
       "             W      pval  equal_var\n",
       "levene  0.3956  0.673929       True"
      ]
     },
     "execution_count": 145,
     "metadata": {},
     "output_type": "execute_result"
    }
   ],
   "source": [
    "# Проверяю на гомогенность дисперсий\n",
    "\n",
    "pg.homoscedasticity(data_for_arppu, dv='revenue', group='group', method='levene', alpha=0.05)"
   ]
  },
  {
   "cell_type": "markdown",
   "metadata": {},
   "source": [
    "Дисперсии одинаковы: первое требование выполнено. Критерий Уэлча не понадобится.\n",
    "\n",
    "Теперь через **bootstrap** проверю нормальность распределения среднего."
   ]
  },
  {
   "cell_type": "code",
   "execution_count": 146,
   "metadata": {},
   "outputs": [
    {
     "name": "stderr",
     "output_type": "stream",
     "text": [
      "100%|███████████████████████████████████████████████████████████████████████████| 10000/10000 [00:25<00:00, 390.67it/s]\n"
     ]
    },
    {
     "data": {
      "text/html": [
       "<div>\n",
       "<style scoped>\n",
       "    .dataframe tbody tr th:only-of-type {\n",
       "        vertical-align: middle;\n",
       "    }\n",
       "\n",
       "    .dataframe tbody tr th {\n",
       "        vertical-align: top;\n",
       "    }\n",
       "\n",
       "    .dataframe thead th {\n",
       "        text-align: right;\n",
       "    }\n",
       "</style>\n",
       "<table border=\"1\" class=\"dataframe\">\n",
       "  <thead>\n",
       "    <tr style=\"text-align: right;\">\n",
       "      <th></th>\n",
       "      <th>A1</th>\n",
       "      <th>A2</th>\n",
       "      <th>B</th>\n",
       "    </tr>\n",
       "  </thead>\n",
       "  <tbody>\n",
       "    <tr>\n",
       "      <th>0</th>\n",
       "      <td>8925.526316</td>\n",
       "      <td>6309.403226</td>\n",
       "      <td>12516.111111</td>\n",
       "    </tr>\n",
       "    <tr>\n",
       "      <th>1</th>\n",
       "      <td>5589.087719</td>\n",
       "      <td>9261.661290</td>\n",
       "      <td>9605.555556</td>\n",
       "    </tr>\n",
       "    <tr>\n",
       "      <th>2</th>\n",
       "      <td>7349.333333</td>\n",
       "      <td>7637.290323</td>\n",
       "      <td>12948.577778</td>\n",
       "    </tr>\n",
       "  </tbody>\n",
       "</table>\n",
       "</div>"
      ],
      "text/plain": [
       "            A1           A2             B\n",
       "0  8925.526316  6309.403226  12516.111111\n",
       "1  5589.087719  9261.661290   9605.555556\n",
       "2  7349.333333  7637.290323  12948.577778"
      ]
     },
     "execution_count": 146,
     "metadata": {},
     "output_type": "execute_result"
    }
   ],
   "source": [
    "n = 10000 # 10 тыс. симуляций\n",
    "\n",
    "# Завожу списки для средних значений\n",
    "a1_lst=[]\n",
    "a2_lst=[]\n",
    "b_lst=[]\n",
    "\n",
    "for i in tqdm(range(n)):\n",
    "    a1_lst.append(data_for_arppu.query('group==\"control_1\"').revenue.sample(frac=1, replace=True).mean())\n",
    "    a2_lst.append(data_for_arppu.query('group==\"control_2\"').revenue.sample(frac=1, replace=True).mean())\n",
    "    b_lst.append(data_for_arppu.query('group==\"test\"').revenue.sample(frac=1, replace=True).mean())\n",
    "\n",
    "# Собираю все в один датафрейм\n",
    "means = pd.DataFrame({'A1':a1_lst, 'A2':a2_lst, 'B':b_lst})\n",
    "means.head(3)"
   ]
  },
  {
   "cell_type": "code",
   "execution_count": 149,
   "metadata": {},
   "outputs": [
    {
     "data": {
      "image/png": "[encoded data removed]",
      "text/plain": [
       "<Figure size 1500x800 with 1 Axes>"
      ]
     },
     "metadata": {},
     "output_type": "display_data"
    }
   ],
   "source": [
    "# Гистограмма распределения средних\n",
    "\n",
    "plt.figure(figsize=(15,8))\n",
    "plt.title(f'''Гистограмма распределения средних по группам''', fontsize=10)\n",
    "sns.histplot(x='value', hue='variable', data=pd.melt(means));"
   ]
  },
  {
   "cell_type": "markdown",
   "metadata": {},
   "source": [
    "На гистограмме уже сразу видно, что распределение средних всех трех групп точно не похоже на нормальное. \n",
    "\n",
    "Еще лучше отклонение от нормального распределения видно на графике `QQ-plot`:"
   ]
  },
  {
   "cell_type": "code",
   "execution_count": 150,
   "metadata": {},
   "outputs": [
    {
     "data": {
      "image/png": "[encoded data removed]",
      "text/plain": [
       "<Figure size 1800x600 with 3 Axes>"
      ]
     },
     "metadata": {},
     "output_type": "display_data"
    }
   ],
   "source": [
    "# QQplot\n",
    "\n",
    "fig, (ax1, ax2, ax3) = plt.subplots(ncols=3, figsize=(18,6))\n",
    "ax1.set_title('Data A1')\n",
    "ax2.set_title('Data A2')\n",
    "ax3.set_title('Data B')\n",
    "sm.qqplot(means['A1'], line='r', ax=ax1)\n",
    "sm.qqplot(means['A2'], line='r', ax=ax2)\n",
    "sm.qqplot(means['B'], line='r', ax=ax3);"
   ]
  },
  {
   "cell_type": "markdown",
   "metadata": {},
   "source": [
    "Но проще всего нормальность распределения проверить через тест Шапиро-Уилка."
   ]
  },
  {
   "cell_type": "code",
   "execution_count": 151,
   "metadata": {},
   "outputs": [
    {
     "name": "stdout",
     "output_type": "stream",
     "text": [
      "Проверка на нормальность распределения (тест Шапиро-Уилка)\n",
      "Значения p-value для\n",
      "- контрольной группы 1: 9.032843158500042e-33\n",
      "- контрольной группы 2: 2.2621161109595522e-41\n",
      "- тестовой группы:      0.0\n"
     ]
    }
   ],
   "source": [
    "print(f'''Проверка на нормальность распределения (тест Шапиро-Уилка)\n",
    "Значения p-value для\n",
    "- контрольной группы 1: {scipy.stats.shapiro(a1_lst)[1]}\n",
    "- контрольной группы 2: {scipy.stats.shapiro(a2_lst)[1]}\n",
    "- тестовой группы:      {scipy.stats.shapiro(b_lst)[1]}''')"
   ]
  },
  {
   "cell_type": "markdown",
   "metadata": {},
   "source": [
    "Во всех трех распределениях значения p-value < 0.05, что отклоняет нулевую гипотезу о нормальности распределения. Это значит, что среднее в выборках рапределено ненормально и использовать t-test в данном случае опасно (он, я так понимаю, не работает с подобными распределениями).\n",
    "\n",
    "Рассчитать ARPPU можно и через ***непараметрические критерии*** (например, здесь могут подойти bootstrap, перестановочный метод). Пусть критерий **bootstrap** и менее надежен по сравнению с тестом Стьюдента, зато его преимущество в том, что он не предъявляет требований к характеру распределений. Поэтому его можно сразу использовать без предварительных проверок. Достоверность результатов, полученных после бутсрэпа, определяется только качеством исходных данных (выборки репрезентативны, случайно засплитованны и отражают реальное положение дел). Вопрос о корректном сплитовании я сейчас застрагивать не стану, но в остальном, без доступа к реальным данным за прошлые периоды мне остается только надеяться, что столь малые выборки действительно репрезентативны. \n",
    "\n",
    "**Реализация метода.** У меня уже есть датафрейм с собранными значениями средних по 10 тысячам симуляций. Если средние по группам значимо не отличаются, то в доверительный интервал разности между этими средними попадет ноль.\n",
    "\n",
    "**Гипотезы для А/А/B-теста:**\n",
    "- $H_0$: статистически значимых различий нет (*в ДИ разницы средних попадет ноль*); \n",
    "- $H_1$: статистически значимые различия есть."
   ]
  },
  {
   "cell_type": "code",
   "execution_count": 155,
   "metadata": {},
   "outputs": [],
   "source": [
    "# Считаю разницу между средними, добавляю столбцы в таблицу\n",
    "means['diff_A1_A2'] = means.A1 - means.A2\n",
    "means['diff_A1_B']  = means.A1 - means.B\n",
    "means['diff_A2_B']  = means.A2 - means.B"
   ]
  },
  {
   "cell_type": "code",
   "execution_count": 167,
   "metadata": {},
   "outputs": [
    {
     "data": {
      "image/png": "[encoded data removed]",
      "text/plain": [
       "<Figure size 1800x600 with 3 Axes>"
      ]
     },
     "metadata": {},
     "output_type": "display_data"
    }
   ],
   "source": [
    "# Визуализация:\n",
    "fig, (ax1, ax2, ax3) = plt.subplots(ncols=3, figsize=(18,6))\n",
    "ax1.set_title('Diff. in means A1 and A2')\n",
    "ax2.set_title('Diff. in means A1 and B')\n",
    "ax3.set_title('Diff. in means A2 and B')\n",
    "means.diff_A1_A2.hist(ax=ax1)\n",
    "means.diff_A1_B.hist(ax=ax2)\n",
    "means.diff_A2_B.hist(ax=ax3);"
   ]
  },
  {
   "cell_type": "markdown",
   "metadata": {},
   "source": [
    "Распределение всех разностей средних на всех гистограммах похоже на нормальное, пусть и имеет огромный размах. Почти уверена, что виной всему сильные выбросы в исходных маленьких выборках, которые сильно оттащили среднее наверх. Также интересно заметить, что в обоих случаях, когда тестовые средний вычитались из контрольных, распределение сдвинуто влево относительно нуля.\n",
    "\n",
    "Эта особенность лучше видна на боксплоте ниже:"
   ]
  },
  {
   "cell_type": "code",
   "execution_count": 295,
   "metadata": {},
   "outputs": [
    {
     "data": {
      "image/png": "[encoded data removed]",
      "text/plain": [
       "<Figure size 1000x600 with 1 Axes>"
      ]
     },
     "metadata": {},
     "output_type": "display_data"
    }
   ],
   "source": [
    "plt.figure(figsize=(10,6))\n",
    "plt.title(f'''Боксплот для разности средних''', fontsize=10)\n",
    "plt.grid(axis='both')\n",
    "sns.boxplot(data=pd.melt(means[['diff_A1_A2','diff_A1_B','diff_A2_B']]), x='variable', y='value');"
   ]
  },
  {
   "cell_type": "markdown",
   "metadata": {},
   "source": [
    "Большой размах дает основания предположить, что у всех трех распределений будут высокие стандартные ошибки. "
   ]
  },
  {
   "cell_type": "code",
   "execution_count": 311,
   "metadata": {},
   "outputs": [
    {
     "name": "stdout",
     "output_type": "stream",
     "text": [
      "Стандартные ошибки для разностей средних (1) и среднее для распределений (2):\n",
      "А1 и А2: (1)21.72026931461205, (2)108.55515548953028;\n",
      "А1 и B:  (1)28.795930443242366, (2)-3578.9889808187136;\n",
      "А2 и B:  (1)28.59166037982967, (2)-3687.5441363082437\n"
     ]
    }
   ],
   "source": [
    "print(\n",
    "f'''Стандартные ошибки для разностей средних (1) и среднее для распределений (2):\n",
    "А1 и А2: (1){means.diff_A1_A2.sem()}, (2){means.diff_A1_A2.mean()};\n",
    "А1 и B:  (1){means.diff_A1_B.sem()}, (2){means.diff_A1_B.mean()};\n",
    "А2 и B:  (1){means.diff_A2_B.sem()}, (2){means.diff_A2_B.mean()}''')"
   ]
  },
  {
   "cell_type": "markdown",
   "metadata": {},
   "source": [
    "Высокие стандартные ошибки подтверждают наличие шума в исходных данных и заставляют сомневаться в надежности полученных результатов. Что ж, осталось только проверить, есть ли реальные различия между средними. "
   ]
  },
  {
   "cell_type": "code",
   "execution_count": 320,
   "metadata": {},
   "outputs": [
    {
     "name": "stdout",
     "output_type": "stream",
     "text": [
      "Доверительные интервалы для разностей средних:\n",
      "А1 и А2: (65.97905613283159, 151.13125484622907);\n",
      "А1 и B:  (-3635.4348000607106, -3522.5431615767175);\n",
      "А2 и B:  (-3743.5895451138185, -3631.4987275026688).\n"
     ]
    }
   ],
   "source": [
    "print(\n",
    "f'''Доверительные интервалы для разностей средних:\n",
    "А1 и А2: {sms.DescrStatsW(means['diff_A1_A2']).tconfint_mean(alpha=0.05)};\n",
    "А1 и B:  {sms.DescrStatsW(means['diff_A1_B']).tconfint_mean(alpha=0.05)};\n",
    "А2 и B:  {sms.DescrStatsW(means['diff_A2_B']).tconfint_mean(alpha=0.05)}.''')"
   ]
  },
  {
   "cell_type": "markdown",
   "metadata": {},
   "source": [
    "Доверительные интервалы ни одного из рассматриваемых распределений разностей средних не включают в себя ноль, что **подтверждает альтернативную гипотезу во всех трех случаях.** Далее я разберу этот результат сначала к контексте с А/А, потом в А/В эксперименте. \n",
    "\n",
    "Подтверждение альтернативной гипотезы ***в случае с А/А-тестом может говорить о следующем:***\n",
    "\n",
    " **Предположение 1.** Система сплитования работала некорректно, поэтому данные по А/А-группам распределились неслучайным образом (что, собственно, и показал проведенный тест). *К этому вопросу я вернусь в Заключении.*\n",
    " \n",
    " **Предположение 2.** Полученные выборки по А/А группам нерепрезентативны. Может, данных слишком мало, а может быть, они не охватывают какую-то неочевидную сезонность. В любом случае, нерепрезентативность групп говорит о том, что реальное распределение ГС данные выборки не отражают. \n",
    " \n",
    "И, наконец, результаты А/В-теста, при наличии значимых различий в А/А-тесте, мне кажется, оценивать в принципе неверно. Поэтому вопрос об изменении ARPPU остается открытым."
   ]
  },
  {
   "cell_type": "markdown",
   "metadata": {},
   "source": [
    "# Заключение\n",
    "***Если на вопрос об успешности эксперимента в целом должен быть однозначный ответ, то он, скорее, отрицательный.*** Далее постараюсь по пунктам обосновать свою позицию. \n",
    "\n",
    "**п.1.** Неполнота данных в исходных датафреймах ограничила возможность оценить реальную конверсию в покупку премиум-подписки. В практической части в комментариях к тесту на конверсию я добавила небольшую заметку об этом, но сейчас хочу раскрыть тезис подробнее. Да, в `users` есть данные `is_premium` и `was_premium`, но без хронологического контекста совершенно непонятно, что с этими данными делать. И поскольку эксперимент ограничен только новыми пользователями, сама идея использовать `is_premium` и `was_premium` для подсчета конверсии в контексте данной задачи мне не кажется правильной. Из-за этого задачу пришлось сузить и посчитать конверсию в покупку премиума только для платящих пользователей. Результаты оказались незначимыми (*хоть экперимент не был успешен не из-за этого*).\n",
    "\n",
    "**п.2.** Учитывая различные ошибки в данных, на которые было указано в практической части, меня волновал вопрос о корректности работы системы сплитования. В работу это не вошло, но я посчитала FPR для итоговых выборок контрольных групп (по выручке в целом). Хоть значения и получилось маленьким (FPR чуть больше нуля), но гистограмма распределения `p-value` не дает равномерного распределения. При сравнении с тестовой группой FPR тоже работает нормально (для `control_1` и `control_2` при сравнении с тестовой выборкой FPR стабильно выше порога 0.05). Впрочем, несмотря на то, что FPR < 0.05 для контрольных групп - уже сам по себе хороший результат, сомнения у меня вызывает гистограмма, которая, по идее, должна быть распределена равномерно, но на деле выглядит по-другому (*см.Приложение*). Собственно, если данные действительно распределяются по группам неслучайно, то вся вышеприведенная работа не имеет смысла.\n",
    "\n",
    "**п.3.** Слишком маленький объем выборок. Чтобы данные соотвествовали условиям задачи, мне пришлось основательно их переработать и выкинуть большую их часть. В итоге получились небольшие по объему выборки с сильными выбросами, которые не прошли тест на нормальность распределения среднего, из-за чего одну из выбранных метрик пришлось проверять другим, менее мощным способом. (*Хотя, возможно, это отчасти и моя вина тоже - не стоило так много данных отбрасывать*). Но даже если не фильтровать данные, проблема с выбросами останется.\n",
    "\n",
    "**п.4.** При расчете ARPPU через bootstrap А/А-тест показал значимые различия между средними. Этот факт снова ставит вопрос о корректности сплитования, затронутый в п.2, но он так же может говорить о малой мощности самого метода на этих данных или свидетельствовать о нерепрезентативности выборок в общем. В любом случае, результаты bootstrap(-а) не приближают меня к положительной оценке этого A/A/B-теста.\n",
    "\n",
    "**п.5.** В дополнение к п.4 хотелось бы добавить, что я в принципе ничего не знаю о мощности проводимых тестов. Мощность, как и необходимый объем выборок, *рассчитывается заранее,* а не постфактум. Так же и тесты необходимо выбирать *до эксперимента*, еще не имея выборок на руках. Иначе есть риск потратить много денег на эксперимент, который ничего не даст. А при отсутсвии заранее созданного дизайна как такового, любой А/В-тест сложно назвать успешным.\n",
    "\n",
    "\n",
    "*Далее будут две небольшие заметки, касающиеся содержания датафреймов вообще. Они не подкрепляют и не опровергают написанное в пунктах выше, просто дают лучшее представление о данных, с которыми пришлось работать.*\n",
    "\n",
    "> Неполнота с одной строны компенсируется избыточностью данных с другой. Например, зачем были даны `visit_days` в датафреймах `users`? Если идея в том, чтобы посчитать Retention, то в `users` это бесполезно, т.к., повторюсь, нет дат регистрации, а в `transactions` это делать тоже бесполезно, т.к. будут учтены далеко не все пользователи. И даже есть посчитать Retention, то как его сравнивать между группами? Все это я веду к тому, что в датасетах есть абсолютно бесполезные столбцы, которые сбивают с толку. \n",
    "\n",
    "> Дубликаты и ошибки в данных тоже были проблемой. Из-за дублирующихся строк `total_revenue` для некоторых пользователей посчитался некорректно. В моем случае на небольшом объеме данных это не представляет угрозы, но если `total_revenue` всегда считается так, то расхождения с реальностью в будущем будут уже серьезными. Вторая и, на мой взгляд, более странная ошибка - неправильное считывание даты в некоторых строках в `paid_at`. Если возникла проблема с ноябрем (11-й месяц стал числом), то точно также могут перепутаться, например, 6-е мая и 5-е июня, и если пользователь зарегистрирован раньше этих дат, то ошибку отловить будет очень сложно. "
   ]
  },
  {
   "cell_type": "markdown",
   "metadata": {},
   "source": [
    "### Приложение. Расчёт FPR\n",
    "*Этот раздел я решила оставить в качестве приложения уже после написания заключения. Он идет как иллюстрация к проблеме с FPR, описанной в пункте 2 выше.*"
   ]
  },
  {
   "cell_type": "code",
   "execution_count": 328,
   "metadata": {},
   "outputs": [],
   "source": [
    "# Функция для расчета FPR\n",
    "\n",
    "def calculate_FPR (data1, data2, \n",
    "                   n_simulations = 10000, \n",
    "                   sample_size = 40, \n",
    "                   t_test_equal_var = False,\n",
    "                   show_chart=True):\n",
    "    \n",
    "    p_value_list = []\n",
    "\n",
    "    # Запускаю симуляции\n",
    "    for i in tqdm(range(n_simulations)):\n",
    "        s1 = data1.sample(sample_size, replace = False).values\n",
    "        s2 = data2.sample(sample_size, replace = False).values\n",
    "        p_value_list.append(scipy.stats.ttest_ind(s1, s2, equal_var = t_test_equal_var)[1]) # сохраняем pvalue\n",
    "    \n",
    "    # Отрисовка графика\n",
    "    fig = plt.figure(figsize=(8,6))\n",
    "    sns.histplot(p_value_list, bins=50)\n",
    "    plt.fill([0,1,1,0],[n_simulations/50,n_simulations/50, 0, 0],'b', alpha=.2)\n",
    "    if show_chart == True:\n",
    "        plt.show(fig)\n",
    "    else: plt.close(fig)\n",
    "\n",
    "    # Вывожу количество ложноположительных случаев\n",
    "    return(print('FPR:', sum(np.array(p_value_list) <0.05) / n_simulations))"
   ]
  },
  {
   "cell_type": "code",
   "execution_count": 332,
   "metadata": {},
   "outputs": [
    {
     "name": "stderr",
     "output_type": "stream",
     "text": [
      "100%|██████████████████████████████████████████████████████████████████████████| 10000/10000 [00:05<00:00, 1720.37it/s]\n"
     ]
    },
    {
     "data": {
      "image/png": "[encoded data removed]",
      "text/plain": [
       "<Figure size 800x600 with 1 Axes>"
      ]
     },
     "metadata": {},
     "output_type": "display_data"
    },
    {
     "name": "stdout",
     "output_type": "stream",
     "text": [
      "FPR: 0.0003\n"
     ]
    }
   ],
   "source": [
    "# FPR для контрольных групп\n",
    "calculate_FPR(data1=transactions_october.query('group==\"control_1\"').total_revenue_corrected, \n",
    "             data2=transactions_october.query('group==\"control_2\"').total_revenue_corrected, \n",
    "             sample_size=80, t_test_equal_var=False)"
   ]
  },
  {
   "cell_type": "code",
   "execution_count": 336,
   "metadata": {},
   "outputs": [
    {
     "name": "stderr",
     "output_type": "stream",
     "text": [
      "100%|██████████████████████████████████████████████████████████████████████████| 10000/10000 [00:05<00:00, 1734.27it/s]"
     ]
    },
    {
     "name": "stdout",
     "output_type": "stream",
     "text": [
      "FPR: 0.2202\n"
     ]
    },
    {
     "name": "stderr",
     "output_type": "stream",
     "text": [
      "\n"
     ]
    }
   ],
   "source": [
    "# Для контрольной-1 и тестовой\n",
    "calculate_FPR(data1=transactions_october.query('group==\"control_1\"').total_revenue_corrected, \n",
    "             data2=transactions_october.query('group==\"test\"').total_revenue_corrected, \n",
    "             sample_size=80, t_test_equal_var=False, show_chart=False)"
   ]
  },
  {
   "cell_type": "code",
   "execution_count": 337,
   "metadata": {},
   "outputs": [
    {
     "name": "stderr",
     "output_type": "stream",
     "text": [
      "100%|██████████████████████████████████████████████████████████████████████████| 10000/10000 [00:05<00:00, 1711.61it/s]\n"
     ]
    },
    {
     "name": "stdout",
     "output_type": "stream",
     "text": [
      "FPR: 0.7852\n"
     ]
    }
   ],
   "source": [
    "# Для контрольной-2 и тестовой\n",
    "calculate_FPR(data1=transactions_october.query('group==\"control_2\"').total_revenue_corrected, \n",
    "             data2=transactions_october.query('group==\"test\"').total_revenue_corrected, \n",
    "             sample_size=80, t_test_equal_var=False, show_chart=False)"
   ]
  }
 ],
 "metadata": {
  "kernelspec": {
   "display_name": "Python 3 (ipykernel)",
   "language": "python",
   "name": "python3"
  },
  "language_info": {
   "codemirror_mode": {
    "name": "ipython",
    "version": 3
   },
   "file_extension": ".py",
   "mimetype": "text/x-python",
   "name": "python",
   "nbconvert_exporter": "python",
   "pygments_lexer": "ipython3",
   "version": "3.11.3"
  },
  "varInspector": {
   "cols": {
    "lenName": 16,
    "lenType": 16,
    "lenVar": 40
   },
   "kernels_config": {
    "python": {
     "delete_cmd_postfix": "",
     "delete_cmd_prefix": "del ",
     "library": "var_list.py",
     "varRefreshCmd": "print(var_dic_list())"
    },
    "r": {
     "delete_cmd_postfix": ") ",
     "delete_cmd_prefix": "rm(",
     "library": "var_list.r",
     "varRefreshCmd": "cat(var_dic_list()) "
    }
   },
   "types_to_exclude": [
    "module",
    "function",
    "builtin_function_or_method",
    "instance",
    "_Feature"
   ],
   "window_display": false
  }
 },
 "nbformat": 4,
 "nbformat_minor": 4
}
